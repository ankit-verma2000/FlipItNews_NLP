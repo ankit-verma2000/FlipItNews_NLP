{
  "cells": [
    {
      "cell_type": "markdown",
      "metadata": {
        "id": "view-in-github",
        "colab_type": "text"
      },
      "source": [
        "<a href=\"https://colab.research.google.com/github/ankit-verma2000/FlipItNews_NLP/blob/main/NLP_FlipItNews(s).ipynb\" target=\"_parent\"><img src=\"https://colab.research.google.com/assets/colab-badge.svg\" alt=\"Open In Colab\"/></a>"
      ]
    },
    {
      "cell_type": "markdown",
      "metadata": {
        "id": "RsHeth1bL7zZ"
      },
      "source": [
        "# **NLP: FlipItNews**"
      ]
    },
    {
      "cell_type": "markdown",
      "metadata": {
        "id": "1ASUcx8MMI37"
      },
      "source": [
        "* FlipItNews is transforming the Indian finance, business, and investment\n",
        "landscape using AI and ML.\n",
        "* This case focuses on harnessing natural language processing to categorize\n",
        "news articles, a critical component for delivering relevant content to users.\n",
        "* By analyzing its internal database of news articles, FlipItNews aims to\n",
        "intelligently categorize content into domains like politics, technology, sports,\n",
        "business, and entertainment.\n",
        "* The insights from this analysis can significantly improve content discovery and\n",
        "user engagement, driving financial literacy and investment awareness among millennials and first-time investors."
      ]
    },
    {
      "cell_type": "markdown",
      "metadata": {
        "id": "n1jnhfKFMYF5"
      },
      "source": [
        "## Objective:\n",
        "\n",
        "The goal of this project is to use a bunch of news articles extracted from the companies internal database and categorize them into several categories like politics, technology, sports, business and entertainment based on their content. Use natural language processing and create & compare at least three different models."
      ]
    },
    {
      "cell_type": "markdown",
      "metadata": {
        "id": "LSZFkcP_Ms1j"
      },
      "source": [
        "# **FlipItNews Data:**\n",
        "\n",
        "* Each row in this dataset corresponds to a unique news article, and each column\n",
        "represents features crucial for categorizing the content. The dataset 'FlipItNews Data'\n",
        "includes the following variables:\n",
        "1. Article: The full text of the news article.\n",
        "2. Category: The actual category of the news article (such as politics, technology,\n",
        "sports, business, and entertainment)."
      ]
    },
    {
      "cell_type": "code",
      "execution_count": null,
      "metadata": {
        "colab": {
          "base_uri": "https://localhost:8080/"
        },
        "id": "elpVNaajUOID",
        "outputId": "3599c1a3-cb11-459a-cd82-244c162606c5"
      },
      "outputs": [
        {
          "name": "stderr",
          "output_type": "stream",
          "text": [
            "[nltk_data] Downloading package punkt to /root/nltk_data...\n",
            "[nltk_data]   Package punkt is already up-to-date!\n",
            "[nltk_data] Downloading package wordnet to /root/nltk_data...\n",
            "[nltk_data]   Package wordnet is already up-to-date!\n",
            "[nltk_data] Downloading package stopwords to /root/nltk_data...\n",
            "[nltk_data]   Package stopwords is already up-to-date!\n"
          ]
        },
        {
          "data": {
            "text/plain": [
              "True"
            ]
          },
          "execution_count": 12,
          "metadata": {},
          "output_type": "execute_result"
        }
      ],
      "source": [
        "import pandas as pd\n",
        "import numpy as np\n",
        "from sklearn.model_selection import train_test_split\n",
        "from sklearn.feature_extraction.text import CountVectorizer, TfidfVectorizer\n",
        "from sklearn.naive_bayes import MultinomialNB\n",
        "from sklearn.tree import DecisionTreeClassifier\n",
        "from sklearn.neighbors import KNeighborsClassifier\n",
        "from sklearn.ensemble import RandomForestClassifier\n",
        "from sklearn.metrics import confusion_matrix, classification_report\n",
        "import re\n",
        "import nltk\n",
        "from nltk.corpus import stopwords\n",
        "from nltk.tokenize import word_tokenize\n",
        "from nltk.stem import WordNetLemmatizer\n",
        "nltk.download('punkt')\n",
        "nltk.download('wordnet')\n",
        "nltk.download('stopwords')"
      ]
    },
    {
      "cell_type": "code",
      "execution_count": null,
      "metadata": {
        "colab": {
          "base_uri": "https://localhost:8080/",
          "height": 206
        },
        "id": "5RPS5YGuqwya",
        "outputId": "95f61734-e138-403b-d572-8564bb69a6c6"
      },
      "outputs": [
        {
          "data": {
            "application/vnd.google.colaboratory.intrinsic+json": {
              "summary": "{\n  \"name\": \"df\",\n  \"rows\": 5,\n  \"fields\": [\n    {\n      \"column\": \"Category\",\n      \"properties\": {\n        \"dtype\": \"string\",\n        \"num_unique_values\": 3,\n        \"samples\": [\n          \"Business\",\n          \"Technology\",\n          \"Politics\"\n        ],\n        \"semantic_type\": \"\",\n        \"description\": \"\"\n      }\n    },\n    {\n      \"column\": \"Article\",\n      \"properties\": {\n        \"dtype\": \"string\",\n        \"num_unique_values\": 5,\n        \"samples\": [\n          \"mcdonald s to sponsor mtv show mcdonald s  the world s largest restaurant chain  is to sponsor a programme on music channel mtv as part of its latest youth market promotion.  the show advance warning highlights new talent and mtv reckons it will give mcdonald s access to nearly 400 million homes in 162 countries. mcdonald s golden arches  name and  i m loving it  catchphrase will be used throughout the half-hour programme. the move comes amid growing concerns about obesity in europe and the us.  the european union has called on the food industry to reduce the number of adverts aimed at young children  warning that legislation would be introduced. unless voluntary steps were taken. in the us  food group kraft is among firms that already have cut back on promoting sugar and fattening products to the young. mcdonalds has also been taking steps to improve its junk food reputation  revamping its menu and providing clients with health-related products such as pedometers. as well as burgers like the big mac and quarter pounder with cheese  the company now sells healthier options such as salads and fresh fruit. chief executive jim skinner attributed an 8.3% increase in january worldwide sales to the  vitality of our menu   among other things.  hooking up with mtv is expected to add extra momentum to mcdonald s recent revival. mtv  which played a key role in the emergence of the music video  is to show advance warning on all 25 of its channels across the world. the programme can at present only been seen in the us  where it has featured artists like british stars joss stone and franz ferdinand. mcdonald s has targeted the youth market in the past with its advertisements  signing up stars like jelly-legged dancer justin timberlake and all-woman singing group destiny s child.\",\n          \"msps hear renewed climate warning climate change could be completely out of control within several decades  the scottish environment protection agency is warning a committee of msps.  experts are giving evidence on the subject to the scottish parliament s environment committee. officials believe nuclear energy and wind farms may be better options than trying to tackle global warming. solutions suggested by conservationists include reducing internal uk air travel and boosting electric trains. the evidence is part of the committee s inquiry into the impact of climate change in scotland. sepa is attempting to curb global warming gases  as pollution from transport emissions increases.  ecologists are warning msps that scotland may have to accept  significant intrusion  from wind farms. it is likely also that nuclear power will be needed for possibly several decades. sepa predict that the two methods will remain as energy sources until climate change is under control. experts studying the seas off scotland s west coast have already forecast more devastating weather of the type which caused havoc across the country last month.  they predicted that damaging storms will become more frequent. researchers from the university of the highlands and islands and southampton have been looking at wave heights in the atlantic over the last nine years. the project was conducted jointly by the environmental research institute in thurso  which is part of the university of the highlands and islands (uhi) millennium institute network  and the southampton oceanography centre. scientists carried out a series of studies  including the use of satellites to assess wave heights in the seas around the west coast and the hebrides.\",\n          \"be careful how you code a new european directive could put software writers at risk of legal action  warns former programmer and technology analyst bill thompson.  if it gets its way  the dutch government will conclude its presidency of the european union by pushing through a controversial measure that has been rejected by the european parliament  lacks majority support from national governments and will leave millions of european citizens in legal limbo and facing the possibility of court cases against them. if the new law was about border controls  defence or even the new constitution  then our tv screens would be full of experts agonising over the impact on our daily lives. sadly for those who will be directly affected  the controversy concerns the patenting of computer programs  a topic that may excite the bloggers  campaigning groups and technical press but does not obsess middle britain. after all  how much fuss can you generate about the directive on the patentability of computer-implemented inventions  and the way it amends article 52 of the 1973 european patent convention  yet if the new directive is nodded through at the next meeting of one of the eu s ministerial councils  as seems likely  it will allow programs to be patented in europe just as they are in the us. many observers of the computing scene  including myself  think the results will be disastrous for small companies  innovative programmers and the free and open source software movement. it will let large companies patent all sorts of ideas and give legal force to those who want to limit their competitors  use of really obvious ideas.  in the us you cannot build a system that stores customer credit card details so that they can pay without having to re-enter them unless amazon lets you  because they hold the patent on  one-click  online purchase. it is a small invention  but amazon made it to the patent office first and now owns it.  we are relatively free from this sort of thing over here  but perhaps not for long. the new proposals go back to 2002  although argument about patentability of software and computer-implemented inventions has been going on since at least the mid-1980s. they have come to a head now after a year in which proposals were made  endorsed by the council of ministers  radically modified by the european parliament and then re-presented in their original form. some national governments seem to be aware of the problems. poland has rejected the proposal and germany s main political parties have opposed it  but there is not enough opposition to guarantee their rejection. early in december the british government held a consultation meeting with those who had commented on the proposals. science minister lord sainsbury went along to listen and outline the uk position  but according to those present  it was embarrassing to see how little the minister and his officials actually understood the issues concerned.  the draft directive is being put through the council as what is called an  a  item and can only be approved or rejected. no discussion or amendment is allowed. so why should we be worried  first  there is the abuse of the democratic process involved in disregarding the views of the parliament and abandoning all of their carefully argued amendments. this goes to the heart of the european project  and even those who do not care about software or patents should be worried. if coders are treated like this today  who is to say that it will not be you tomorrow   more directly  once software patents are granted then any programmer will have to worry that the code they are writing is infringing someone else s patent. this is not about stealing software  as code is already protected by copyright. patents are not copyright  but something much stronger. a patent gives the owner the right to stop anyone else using their invention  even if the other person invented it separately. i have never  to my shame  managed to read lord byron s childe harold s pilgrimage. if it was pointed out that one of my articles contained a substantial chunk of the poem then i could defend myself in court by claiming that i had simply made it up and it was coincidence. the same does not hold for a patent. if i sit down this afternoon and write a brilliant graphics compression routine and it happens to be the same as the lzw algorithm used in gif files  then i am in trouble under patent law  at least in the us. coincidence is no defence. the proposed directive is supported by many of the major software companies  but this is hardly surprising since most of them are us-based and they have already had to cope with a legal environment that allows patents. they have legal departments and  more crucially  patents of their own which they can trade or cross-license with other patent holders.  even this system breaks down  of course  as microsoft found out last year when they initially lost a case brought by eolas which claimed that internet explorer (and other browsers) infringed an eolas patent. that one was eventually thrown out  but only after months of uncertainty and millions of dollars. but small companies  and the free and open software movement do not have any patents to trade. much of the really useful software we use every day  programs like the apache web server  the gnu/linux operating system and the fearsomely popular firefox browser  is developed outside company structures by people who do not have legal departments to check for patent infringements. the damage to software will not happen overnight  of course. if the directive goes through it has to be written into national laws and then there will be a steady stream of legal actions against small companies and open source products. eventually someone will decide to attack linux directly  probably with some secret funding from one or two large players. the new directive will limit innovation by forcing programmers to spend time checking for patent infringements or simply avoiding working in potentially competitive areas. and it will damage europe s computer industry. we can only hope that the council of ministers has the integrity and strength to reject this bad law.  bill thompson is a regular commentator on the bbc world service programme go digital.\"\n        ],\n        \"semantic_type\": \"\",\n        \"description\": \"\"\n      }\n    }\n  ]\n}",
              "type": "dataframe"
            },
            "text/html": [
              "\n",
              "  <div id=\"df-7a30748f-0d0d-4b3e-9516-f0ec962cba54\" class=\"colab-df-container\">\n",
              "    <div>\n",
              "<style scoped>\n",
              "    .dataframe tbody tr th:only-of-type {\n",
              "        vertical-align: middle;\n",
              "    }\n",
              "\n",
              "    .dataframe tbody tr th {\n",
              "        vertical-align: top;\n",
              "    }\n",
              "\n",
              "    .dataframe thead th {\n",
              "        text-align: right;\n",
              "    }\n",
              "</style>\n",
              "<table border=\"1\" class=\"dataframe\">\n",
              "  <thead>\n",
              "    <tr style=\"text-align: right;\">\n",
              "      <th></th>\n",
              "      <th>Category</th>\n",
              "      <th>Article</th>\n",
              "    </tr>\n",
              "  </thead>\n",
              "  <tbody>\n",
              "    <tr>\n",
              "      <th>1287</th>\n",
              "      <td>Business</td>\n",
              "      <td>ericsson sees earnings improve telecoms equipm...</td>\n",
              "    </tr>\n",
              "    <tr>\n",
              "      <th>1144</th>\n",
              "      <td>Business</td>\n",
              "      <td>mcdonald s to sponsor mtv show mcdonald s  the...</td>\n",
              "    </tr>\n",
              "    <tr>\n",
              "      <th>1400</th>\n",
              "      <td>Technology</td>\n",
              "      <td>be careful how you code a new european directi...</td>\n",
              "    </tr>\n",
              "    <tr>\n",
              "      <th>613</th>\n",
              "      <td>Politics</td>\n",
              "      <td>student  fee factor  played down a rise has be...</td>\n",
              "    </tr>\n",
              "    <tr>\n",
              "      <th>673</th>\n",
              "      <td>Politics</td>\n",
              "      <td>msps hear renewed climate warning climate chan...</td>\n",
              "    </tr>\n",
              "  </tbody>\n",
              "</table>\n",
              "</div>\n",
              "    <div class=\"colab-df-buttons\">\n",
              "\n",
              "  <div class=\"colab-df-container\">\n",
              "    <button class=\"colab-df-convert\" onclick=\"convertToInteractive('df-7a30748f-0d0d-4b3e-9516-f0ec962cba54')\"\n",
              "            title=\"Convert this dataframe to an interactive table.\"\n",
              "            style=\"display:none;\">\n",
              "\n",
              "  <svg xmlns=\"http://www.w3.org/2000/svg\" height=\"24px\" viewBox=\"0 -960 960 960\">\n",
              "    <path d=\"M120-120v-720h720v720H120Zm60-500h600v-160H180v160Zm220 220h160v-160H400v160Zm0 220h160v-160H400v160ZM180-400h160v-160H180v160Zm440 0h160v-160H620v160ZM180-180h160v-160H180v160Zm440 0h160v-160H620v160Z\"/>\n",
              "  </svg>\n",
              "    </button>\n",
              "\n",
              "  <style>\n",
              "    .colab-df-container {\n",
              "      display:flex;\n",
              "      gap: 12px;\n",
              "    }\n",
              "\n",
              "    .colab-df-convert {\n",
              "      background-color: #E8F0FE;\n",
              "      border: none;\n",
              "      border-radius: 50%;\n",
              "      cursor: pointer;\n",
              "      display: none;\n",
              "      fill: #1967D2;\n",
              "      height: 32px;\n",
              "      padding: 0 0 0 0;\n",
              "      width: 32px;\n",
              "    }\n",
              "\n",
              "    .colab-df-convert:hover {\n",
              "      background-color: #E2EBFA;\n",
              "      box-shadow: 0px 1px 2px rgba(60, 64, 67, 0.3), 0px 1px 3px 1px rgba(60, 64, 67, 0.15);\n",
              "      fill: #174EA6;\n",
              "    }\n",
              "\n",
              "    .colab-df-buttons div {\n",
              "      margin-bottom: 4px;\n",
              "    }\n",
              "\n",
              "    [theme=dark] .colab-df-convert {\n",
              "      background-color: #3B4455;\n",
              "      fill: #D2E3FC;\n",
              "    }\n",
              "\n",
              "    [theme=dark] .colab-df-convert:hover {\n",
              "      background-color: #434B5C;\n",
              "      box-shadow: 0px 1px 3px 1px rgba(0, 0, 0, 0.15);\n",
              "      filter: drop-shadow(0px 1px 2px rgba(0, 0, 0, 0.3));\n",
              "      fill: #FFFFFF;\n",
              "    }\n",
              "  </style>\n",
              "\n",
              "    <script>\n",
              "      const buttonEl =\n",
              "        document.querySelector('#df-7a30748f-0d0d-4b3e-9516-f0ec962cba54 button.colab-df-convert');\n",
              "      buttonEl.style.display =\n",
              "        google.colab.kernel.accessAllowed ? 'block' : 'none';\n",
              "\n",
              "      async function convertToInteractive(key) {\n",
              "        const element = document.querySelector('#df-7a30748f-0d0d-4b3e-9516-f0ec962cba54');\n",
              "        const dataTable =\n",
              "          await google.colab.kernel.invokeFunction('convertToInteractive',\n",
              "                                                    [key], {});\n",
              "        if (!dataTable) return;\n",
              "\n",
              "        const docLinkHtml = 'Like what you see? Visit the ' +\n",
              "          '<a target=\"_blank\" href=https://colab.research.google.com/notebooks/data_table.ipynb>data table notebook</a>'\n",
              "          + ' to learn more about interactive tables.';\n",
              "        element.innerHTML = '';\n",
              "        dataTable['output_type'] = 'display_data';\n",
              "        await google.colab.output.renderOutput(dataTable, element);\n",
              "        const docLink = document.createElement('div');\n",
              "        docLink.innerHTML = docLinkHtml;\n",
              "        element.appendChild(docLink);\n",
              "      }\n",
              "    </script>\n",
              "  </div>\n",
              "\n",
              "\n",
              "<div id=\"df-19825101-8aeb-4050-be31-66bfd86b6f8c\">\n",
              "  <button class=\"colab-df-quickchart\" onclick=\"quickchart('df-19825101-8aeb-4050-be31-66bfd86b6f8c')\"\n",
              "            title=\"Suggest charts\"\n",
              "            style=\"display:none;\">\n",
              "\n",
              "<svg xmlns=\"http://www.w3.org/2000/svg\" height=\"24px\"viewBox=\"0 0 24 24\"\n",
              "     width=\"24px\">\n",
              "    <g>\n",
              "        <path d=\"M19 3H5c-1.1 0-2 .9-2 2v14c0 1.1.9 2 2 2h14c1.1 0 2-.9 2-2V5c0-1.1-.9-2-2-2zM9 17H7v-7h2v7zm4 0h-2V7h2v10zm4 0h-2v-4h2v4z\"/>\n",
              "    </g>\n",
              "</svg>\n",
              "  </button>\n",
              "\n",
              "<style>\n",
              "  .colab-df-quickchart {\n",
              "      --bg-color: #E8F0FE;\n",
              "      --fill-color: #1967D2;\n",
              "      --hover-bg-color: #E2EBFA;\n",
              "      --hover-fill-color: #174EA6;\n",
              "      --disabled-fill-color: #AAA;\n",
              "      --disabled-bg-color: #DDD;\n",
              "  }\n",
              "\n",
              "  [theme=dark] .colab-df-quickchart {\n",
              "      --bg-color: #3B4455;\n",
              "      --fill-color: #D2E3FC;\n",
              "      --hover-bg-color: #434B5C;\n",
              "      --hover-fill-color: #FFFFFF;\n",
              "      --disabled-bg-color: #3B4455;\n",
              "      --disabled-fill-color: #666;\n",
              "  }\n",
              "\n",
              "  .colab-df-quickchart {\n",
              "    background-color: var(--bg-color);\n",
              "    border: none;\n",
              "    border-radius: 50%;\n",
              "    cursor: pointer;\n",
              "    display: none;\n",
              "    fill: var(--fill-color);\n",
              "    height: 32px;\n",
              "    padding: 0;\n",
              "    width: 32px;\n",
              "  }\n",
              "\n",
              "  .colab-df-quickchart:hover {\n",
              "    background-color: var(--hover-bg-color);\n",
              "    box-shadow: 0 1px 2px rgba(60, 64, 67, 0.3), 0 1px 3px 1px rgba(60, 64, 67, 0.15);\n",
              "    fill: var(--button-hover-fill-color);\n",
              "  }\n",
              "\n",
              "  .colab-df-quickchart-complete:disabled,\n",
              "  .colab-df-quickchart-complete:disabled:hover {\n",
              "    background-color: var(--disabled-bg-color);\n",
              "    fill: var(--disabled-fill-color);\n",
              "    box-shadow: none;\n",
              "  }\n",
              "\n",
              "  .colab-df-spinner {\n",
              "    border: 2px solid var(--fill-color);\n",
              "    border-color: transparent;\n",
              "    border-bottom-color: var(--fill-color);\n",
              "    animation:\n",
              "      spin 1s steps(1) infinite;\n",
              "  }\n",
              "\n",
              "  @keyframes spin {\n",
              "    0% {\n",
              "      border-color: transparent;\n",
              "      border-bottom-color: var(--fill-color);\n",
              "      border-left-color: var(--fill-color);\n",
              "    }\n",
              "    20% {\n",
              "      border-color: transparent;\n",
              "      border-left-color: var(--fill-color);\n",
              "      border-top-color: var(--fill-color);\n",
              "    }\n",
              "    30% {\n",
              "      border-color: transparent;\n",
              "      border-left-color: var(--fill-color);\n",
              "      border-top-color: var(--fill-color);\n",
              "      border-right-color: var(--fill-color);\n",
              "    }\n",
              "    40% {\n",
              "      border-color: transparent;\n",
              "      border-right-color: var(--fill-color);\n",
              "      border-top-color: var(--fill-color);\n",
              "    }\n",
              "    60% {\n",
              "      border-color: transparent;\n",
              "      border-right-color: var(--fill-color);\n",
              "    }\n",
              "    80% {\n",
              "      border-color: transparent;\n",
              "      border-right-color: var(--fill-color);\n",
              "      border-bottom-color: var(--fill-color);\n",
              "    }\n",
              "    90% {\n",
              "      border-color: transparent;\n",
              "      border-bottom-color: var(--fill-color);\n",
              "    }\n",
              "  }\n",
              "</style>\n",
              "\n",
              "  <script>\n",
              "    async function quickchart(key) {\n",
              "      const quickchartButtonEl =\n",
              "        document.querySelector('#' + key + ' button');\n",
              "      quickchartButtonEl.disabled = true;  // To prevent multiple clicks.\n",
              "      quickchartButtonEl.classList.add('colab-df-spinner');\n",
              "      try {\n",
              "        const charts = await google.colab.kernel.invokeFunction(\n",
              "            'suggestCharts', [key], {});\n",
              "      } catch (error) {\n",
              "        console.error('Error during call to suggestCharts:', error);\n",
              "      }\n",
              "      quickchartButtonEl.classList.remove('colab-df-spinner');\n",
              "      quickchartButtonEl.classList.add('colab-df-quickchart-complete');\n",
              "    }\n",
              "    (() => {\n",
              "      let quickchartButtonEl =\n",
              "        document.querySelector('#df-19825101-8aeb-4050-be31-66bfd86b6f8c button');\n",
              "      quickchartButtonEl.style.display =\n",
              "        google.colab.kernel.accessAllowed ? 'block' : 'none';\n",
              "    })();\n",
              "  </script>\n",
              "</div>\n",
              "\n",
              "    </div>\n",
              "  </div>\n"
            ],
            "text/plain": [
              "        Category                                            Article\n",
              "1287    Business  ericsson sees earnings improve telecoms equipm...\n",
              "1144    Business  mcdonald s to sponsor mtv show mcdonald s  the...\n",
              "1400  Technology  be careful how you code a new european directi...\n",
              "613     Politics  student  fee factor  played down a rise has be...\n",
              "673     Politics  msps hear renewed climate warning climate chan..."
            ]
          },
          "execution_count": 13,
          "metadata": {},
          "output_type": "execute_result"
        }
      ],
      "source": [
        "import pandas as pd\n",
        "df = pd.read_csv('/content/flipitnews-data.csv')\n",
        "\n",
        "df.sample(5)"
      ]
    },
    {
      "cell_type": "code",
      "execution_count": null,
      "metadata": {
        "colab": {
          "base_uri": "https://localhost:8080/"
        },
        "id": "tbfERtLIrK1L",
        "outputId": "3d8ad089-02f7-4421-f1da-853ccfd39e8c"
      },
      "outputs": [
        {
          "name": "stdout",
          "output_type": "stream",
          "text": [
            "Shape of Dataset - \n",
            " (2225, 2)\n",
            "Total No. of Uniue News Articles - \n",
            " 5 : ['Technology' 'Business' 'Sports' 'Entertainment' 'Politics']\n"
          ]
        }
      ],
      "source": [
        "print('Shape of Dataset - \\n',df.shape)\n",
        "\n",
        "print('Total No. of Uniue News Articles - \\n',df['Category'].nunique(),':',df['Category'].unique())\n",
        "\n",
        "#print('News Article per category - \\n',df['Category'].value_counts())\n",
        "\n",
        "#print('\\nInfo - \\n',df.info)"
      ]
    },
    {
      "cell_type": "markdown",
      "metadata": {
        "id": "FcmmmcD-UoUV"
      },
      "source": [
        "# Preliminary Analysis:\n"
      ]
    },
    {
      "cell_type": "code",
      "execution_count": null,
      "metadata": {
        "colab": {
          "base_uri": "https://localhost:8080/",
          "height": 308
        },
        "id": "H5kXG759r8yw",
        "outputId": "5845f268-44ef-4d2f-9e36-5cc453ef792d"
      },
      "outputs": [
        {
          "name": "stdout",
          "output_type": "stream",
          "text": [
            "Total News Article Per category: \n",
            "\n"
          ]
        },
        {
          "data": {
            "text/html": [
              "<div>\n",
              "<style scoped>\n",
              "    .dataframe tbody tr th:only-of-type {\n",
              "        vertical-align: middle;\n",
              "    }\n",
              "\n",
              "    .dataframe tbody tr th {\n",
              "        vertical-align: top;\n",
              "    }\n",
              "\n",
              "    .dataframe thead th {\n",
              "        text-align: right;\n",
              "    }\n",
              "</style>\n",
              "<table border=\"1\" class=\"dataframe\">\n",
              "  <thead>\n",
              "    <tr style=\"text-align: right;\">\n",
              "      <th></th>\n",
              "      <th>count</th>\n",
              "    </tr>\n",
              "    <tr>\n",
              "      <th>Category</th>\n",
              "      <th></th>\n",
              "    </tr>\n",
              "  </thead>\n",
              "  <tbody>\n",
              "    <tr>\n",
              "      <th>Sports</th>\n",
              "      <td>511</td>\n",
              "    </tr>\n",
              "    <tr>\n",
              "      <th>Business</th>\n",
              "      <td>510</td>\n",
              "    </tr>\n",
              "    <tr>\n",
              "      <th>Politics</th>\n",
              "      <td>417</td>\n",
              "    </tr>\n",
              "    <tr>\n",
              "      <th>Technology</th>\n",
              "      <td>401</td>\n",
              "    </tr>\n",
              "    <tr>\n",
              "      <th>Entertainment</th>\n",
              "      <td>386</td>\n",
              "    </tr>\n",
              "  </tbody>\n",
              "</table>\n",
              "</div><br><label><b>dtype:</b> int64</label>"
            ],
            "text/plain": [
              "Category\n",
              "Sports           511\n",
              "Business         510\n",
              "Politics         417\n",
              "Technology       401\n",
              "Entertainment    386\n",
              "Name: count, dtype: int64"
            ]
          },
          "execution_count": 15,
          "metadata": {},
          "output_type": "execute_result"
        }
      ],
      "source": [
        "print('Total News Article Per category: \\n')\n",
        "df.Category.value_counts()"
      ]
    },
    {
      "cell_type": "code",
      "execution_count": null,
      "metadata": {
        "colab": {
          "base_uri": "https://localhost:8080/",
          "height": 211
        },
        "id": "xqYE0GHOsLJz",
        "outputId": "3932c719-f560-49cb-a375-f3d7c0c7d365"
      },
      "outputs": [
        {
          "name": "stdout",
          "output_type": "stream",
          "text": [
            "Descriptive analysis: \n",
            "\n"
          ]
        },
        {
          "data": {
            "application/vnd.google.colaboratory.intrinsic+json": {
              "summary": "{\n  \"name\": \"df\",\n  \"rows\": 4,\n  \"fields\": [\n    {\n      \"column\": \"Category\",\n      \"properties\": {\n        \"dtype\": \"string\",\n        \"num_unique_values\": 4,\n        \"samples\": [\n          5,\n          \"511\",\n          \"2225\"\n        ],\n        \"semantic_type\": \"\",\n        \"description\": \"\"\n      }\n    },\n    {\n      \"column\": \"Article\",\n      \"properties\": {\n        \"dtype\": \"string\",\n        \"num_unique_values\": 4,\n        \"samples\": [\n          2126,\n          \"2\",\n          \"2225\"\n        ],\n        \"semantic_type\": \"\",\n        \"description\": \"\"\n      }\n    }\n  ]\n}",
              "type": "dataframe"
            },
            "text/html": [
              "\n",
              "  <div id=\"df-810917c3-6a74-4a09-a244-03ee17f2d241\" class=\"colab-df-container\">\n",
              "    <div>\n",
              "<style scoped>\n",
              "    .dataframe tbody tr th:only-of-type {\n",
              "        vertical-align: middle;\n",
              "    }\n",
              "\n",
              "    .dataframe tbody tr th {\n",
              "        vertical-align: top;\n",
              "    }\n",
              "\n",
              "    .dataframe thead th {\n",
              "        text-align: right;\n",
              "    }\n",
              "</style>\n",
              "<table border=\"1\" class=\"dataframe\">\n",
              "  <thead>\n",
              "    <tr style=\"text-align: right;\">\n",
              "      <th></th>\n",
              "      <th>Category</th>\n",
              "      <th>Article</th>\n",
              "    </tr>\n",
              "  </thead>\n",
              "  <tbody>\n",
              "    <tr>\n",
              "      <th>count</th>\n",
              "      <td>2225</td>\n",
              "      <td>2225</td>\n",
              "    </tr>\n",
              "    <tr>\n",
              "      <th>unique</th>\n",
              "      <td>5</td>\n",
              "      <td>2126</td>\n",
              "    </tr>\n",
              "    <tr>\n",
              "      <th>top</th>\n",
              "      <td>Sports</td>\n",
              "      <td>kennedy questions trust of blair lib dem leade...</td>\n",
              "    </tr>\n",
              "    <tr>\n",
              "      <th>freq</th>\n",
              "      <td>511</td>\n",
              "      <td>2</td>\n",
              "    </tr>\n",
              "  </tbody>\n",
              "</table>\n",
              "</div>\n",
              "    <div class=\"colab-df-buttons\">\n",
              "\n",
              "  <div class=\"colab-df-container\">\n",
              "    <button class=\"colab-df-convert\" onclick=\"convertToInteractive('df-810917c3-6a74-4a09-a244-03ee17f2d241')\"\n",
              "            title=\"Convert this dataframe to an interactive table.\"\n",
              "            style=\"display:none;\">\n",
              "\n",
              "  <svg xmlns=\"http://www.w3.org/2000/svg\" height=\"24px\" viewBox=\"0 -960 960 960\">\n",
              "    <path d=\"M120-120v-720h720v720H120Zm60-500h600v-160H180v160Zm220 220h160v-160H400v160Zm0 220h160v-160H400v160ZM180-400h160v-160H180v160Zm440 0h160v-160H620v160ZM180-180h160v-160H180v160Zm440 0h160v-160H620v160Z\"/>\n",
              "  </svg>\n",
              "    </button>\n",
              "\n",
              "  <style>\n",
              "    .colab-df-container {\n",
              "      display:flex;\n",
              "      gap: 12px;\n",
              "    }\n",
              "\n",
              "    .colab-df-convert {\n",
              "      background-color: #E8F0FE;\n",
              "      border: none;\n",
              "      border-radius: 50%;\n",
              "      cursor: pointer;\n",
              "      display: none;\n",
              "      fill: #1967D2;\n",
              "      height: 32px;\n",
              "      padding: 0 0 0 0;\n",
              "      width: 32px;\n",
              "    }\n",
              "\n",
              "    .colab-df-convert:hover {\n",
              "      background-color: #E2EBFA;\n",
              "      box-shadow: 0px 1px 2px rgba(60, 64, 67, 0.3), 0px 1px 3px 1px rgba(60, 64, 67, 0.15);\n",
              "      fill: #174EA6;\n",
              "    }\n",
              "\n",
              "    .colab-df-buttons div {\n",
              "      margin-bottom: 4px;\n",
              "    }\n",
              "\n",
              "    [theme=dark] .colab-df-convert {\n",
              "      background-color: #3B4455;\n",
              "      fill: #D2E3FC;\n",
              "    }\n",
              "\n",
              "    [theme=dark] .colab-df-convert:hover {\n",
              "      background-color: #434B5C;\n",
              "      box-shadow: 0px 1px 3px 1px rgba(0, 0, 0, 0.15);\n",
              "      filter: drop-shadow(0px 1px 2px rgba(0, 0, 0, 0.3));\n",
              "      fill: #FFFFFF;\n",
              "    }\n",
              "  </style>\n",
              "\n",
              "    <script>\n",
              "      const buttonEl =\n",
              "        document.querySelector('#df-810917c3-6a74-4a09-a244-03ee17f2d241 button.colab-df-convert');\n",
              "      buttonEl.style.display =\n",
              "        google.colab.kernel.accessAllowed ? 'block' : 'none';\n",
              "\n",
              "      async function convertToInteractive(key) {\n",
              "        const element = document.querySelector('#df-810917c3-6a74-4a09-a244-03ee17f2d241');\n",
              "        const dataTable =\n",
              "          await google.colab.kernel.invokeFunction('convertToInteractive',\n",
              "                                                    [key], {});\n",
              "        if (!dataTable) return;\n",
              "\n",
              "        const docLinkHtml = 'Like what you see? Visit the ' +\n",
              "          '<a target=\"_blank\" href=https://colab.research.google.com/notebooks/data_table.ipynb>data table notebook</a>'\n",
              "          + ' to learn more about interactive tables.';\n",
              "        element.innerHTML = '';\n",
              "        dataTable['output_type'] = 'display_data';\n",
              "        await google.colab.output.renderOutput(dataTable, element);\n",
              "        const docLink = document.createElement('div');\n",
              "        docLink.innerHTML = docLinkHtml;\n",
              "        element.appendChild(docLink);\n",
              "      }\n",
              "    </script>\n",
              "  </div>\n",
              "\n",
              "\n",
              "<div id=\"df-b28852ea-0148-4022-b3ba-402159a9e810\">\n",
              "  <button class=\"colab-df-quickchart\" onclick=\"quickchart('df-b28852ea-0148-4022-b3ba-402159a9e810')\"\n",
              "            title=\"Suggest charts\"\n",
              "            style=\"display:none;\">\n",
              "\n",
              "<svg xmlns=\"http://www.w3.org/2000/svg\" height=\"24px\"viewBox=\"0 0 24 24\"\n",
              "     width=\"24px\">\n",
              "    <g>\n",
              "        <path d=\"M19 3H5c-1.1 0-2 .9-2 2v14c0 1.1.9 2 2 2h14c1.1 0 2-.9 2-2V5c0-1.1-.9-2-2-2zM9 17H7v-7h2v7zm4 0h-2V7h2v10zm4 0h-2v-4h2v4z\"/>\n",
              "    </g>\n",
              "</svg>\n",
              "  </button>\n",
              "\n",
              "<style>\n",
              "  .colab-df-quickchart {\n",
              "      --bg-color: #E8F0FE;\n",
              "      --fill-color: #1967D2;\n",
              "      --hover-bg-color: #E2EBFA;\n",
              "      --hover-fill-color: #174EA6;\n",
              "      --disabled-fill-color: #AAA;\n",
              "      --disabled-bg-color: #DDD;\n",
              "  }\n",
              "\n",
              "  [theme=dark] .colab-df-quickchart {\n",
              "      --bg-color: #3B4455;\n",
              "      --fill-color: #D2E3FC;\n",
              "      --hover-bg-color: #434B5C;\n",
              "      --hover-fill-color: #FFFFFF;\n",
              "      --disabled-bg-color: #3B4455;\n",
              "      --disabled-fill-color: #666;\n",
              "  }\n",
              "\n",
              "  .colab-df-quickchart {\n",
              "    background-color: var(--bg-color);\n",
              "    border: none;\n",
              "    border-radius: 50%;\n",
              "    cursor: pointer;\n",
              "    display: none;\n",
              "    fill: var(--fill-color);\n",
              "    height: 32px;\n",
              "    padding: 0;\n",
              "    width: 32px;\n",
              "  }\n",
              "\n",
              "  .colab-df-quickchart:hover {\n",
              "    background-color: var(--hover-bg-color);\n",
              "    box-shadow: 0 1px 2px rgba(60, 64, 67, 0.3), 0 1px 3px 1px rgba(60, 64, 67, 0.15);\n",
              "    fill: var(--button-hover-fill-color);\n",
              "  }\n",
              "\n",
              "  .colab-df-quickchart-complete:disabled,\n",
              "  .colab-df-quickchart-complete:disabled:hover {\n",
              "    background-color: var(--disabled-bg-color);\n",
              "    fill: var(--disabled-fill-color);\n",
              "    box-shadow: none;\n",
              "  }\n",
              "\n",
              "  .colab-df-spinner {\n",
              "    border: 2px solid var(--fill-color);\n",
              "    border-color: transparent;\n",
              "    border-bottom-color: var(--fill-color);\n",
              "    animation:\n",
              "      spin 1s steps(1) infinite;\n",
              "  }\n",
              "\n",
              "  @keyframes spin {\n",
              "    0% {\n",
              "      border-color: transparent;\n",
              "      border-bottom-color: var(--fill-color);\n",
              "      border-left-color: var(--fill-color);\n",
              "    }\n",
              "    20% {\n",
              "      border-color: transparent;\n",
              "      border-left-color: var(--fill-color);\n",
              "      border-top-color: var(--fill-color);\n",
              "    }\n",
              "    30% {\n",
              "      border-color: transparent;\n",
              "      border-left-color: var(--fill-color);\n",
              "      border-top-color: var(--fill-color);\n",
              "      border-right-color: var(--fill-color);\n",
              "    }\n",
              "    40% {\n",
              "      border-color: transparent;\n",
              "      border-right-color: var(--fill-color);\n",
              "      border-top-color: var(--fill-color);\n",
              "    }\n",
              "    60% {\n",
              "      border-color: transparent;\n",
              "      border-right-color: var(--fill-color);\n",
              "    }\n",
              "    80% {\n",
              "      border-color: transparent;\n",
              "      border-right-color: var(--fill-color);\n",
              "      border-bottom-color: var(--fill-color);\n",
              "    }\n",
              "    90% {\n",
              "      border-color: transparent;\n",
              "      border-bottom-color: var(--fill-color);\n",
              "    }\n",
              "  }\n",
              "</style>\n",
              "\n",
              "  <script>\n",
              "    async function quickchart(key) {\n",
              "      const quickchartButtonEl =\n",
              "        document.querySelector('#' + key + ' button');\n",
              "      quickchartButtonEl.disabled = true;  // To prevent multiple clicks.\n",
              "      quickchartButtonEl.classList.add('colab-df-spinner');\n",
              "      try {\n",
              "        const charts = await google.colab.kernel.invokeFunction(\n",
              "            'suggestCharts', [key], {});\n",
              "      } catch (error) {\n",
              "        console.error('Error during call to suggestCharts:', error);\n",
              "      }\n",
              "      quickchartButtonEl.classList.remove('colab-df-spinner');\n",
              "      quickchartButtonEl.classList.add('colab-df-quickchart-complete');\n",
              "    }\n",
              "    (() => {\n",
              "      let quickchartButtonEl =\n",
              "        document.querySelector('#df-b28852ea-0148-4022-b3ba-402159a9e810 button');\n",
              "      quickchartButtonEl.style.display =\n",
              "        google.colab.kernel.accessAllowed ? 'block' : 'none';\n",
              "    })();\n",
              "  </script>\n",
              "</div>\n",
              "\n",
              "    </div>\n",
              "  </div>\n"
            ],
            "text/plain": [
              "       Category                                            Article\n",
              "count      2225                                               2225\n",
              "unique        5                                               2126\n",
              "top      Sports  kennedy questions trust of blair lib dem leade...\n",
              "freq        511                                                  2"
            ]
          },
          "execution_count": 16,
          "metadata": {},
          "output_type": "execute_result"
        }
      ],
      "source": [
        "print('Descriptive analysis: \\n')\n",
        "df.describe()"
      ]
    },
    {
      "cell_type": "code",
      "execution_count": null,
      "metadata": {
        "colab": {
          "base_uri": "https://localhost:8080/"
        },
        "id": "5urOOdqWV1I7",
        "outputId": "bd9e69cb-eef9-4fef-c2cb-436c1a614157"
      },
      "outputs": [
        {
          "name": "stdout",
          "output_type": "stream",
          "text": [
            "{'Article': 'worldcom boss  left books alone  former worldcom boss bernie '\n",
            "            'ebbers  who is accused of overseeing an $11bn (£5.8bn) fraud  '\n",
            "            'never made accounting decisions  a witness has told jurors.  '\n",
            "            'david myers made the comments under questioning by defence '\n",
            "            'lawyers who have been arguing that mr ebbers was not responsible '\n",
            "            'for worldcom s problems. the phone company collapsed in 2002 and '\n",
            "            'prosecutors claim that losses were hidden to protect the firm s '\n",
            "            'shares. mr myers has already pleaded guilty to fraud and is '\n",
            "            'assisting prosecutors.  on monday  defence lawyer reid weingarten '\n",
            "            'tried to distance his client from the allegations. during cross '\n",
            "            'examination  he asked mr myers if he ever knew mr ebbers  make an '\n",
            "            'accounting decision  .  not that i am aware of   mr myers '\n",
            "            'replied.  did you ever know mr ebbers to make an accounting entry '\n",
            "            'into worldcom books   mr weingarten pressed.  no   replied the '\n",
            "            'witness. mr myers has admitted that he ordered false accounting '\n",
            "            'entries at the request of former worldcom chief financial officer '\n",
            "            'scott sullivan. defence lawyers have been trying to paint mr '\n",
            "            'sullivan  who has admitted fraud and will testify later in the '\n",
            "            'trial  as the mastermind behind worldcom s accounting house of '\n",
            "            'cards.  mr ebbers  team  meanwhile  are looking to portray him as '\n",
            "            'an affable boss  who by his own admission is more pe graduate '\n",
            "            'than economist. whatever his abilities  mr ebbers transformed '\n",
            "            'worldcom from a relative unknown into a $160bn telecoms giant and '\n",
            "            'investor darling of the late 1990s. worldcom s problems mounted  '\n",
            "            'however  as competition increased and the telecoms boom petered '\n",
            "            'out. when the firm finally collapsed  shareholders lost about '\n",
            "            '$180bn and 20 000 workers lost their jobs. mr ebbers  trial is '\n",
            "            'expected to last two months and if found guilty the former ceo '\n",
            "            'faces a substantial jail sentence. he has firmly declared his '\n",
            "            'innocence.',\n",
            " 'Category': 'Business'}\n"
          ]
        }
      ],
      "source": [
        "from pprint import pprint\n",
        "\n",
        "pprint(df.iloc[1].to_dict(), compact=True)"
      ]
    },
    {
      "cell_type": "code",
      "execution_count": null,
      "metadata": {
        "colab": {
          "base_uri": "https://localhost:8080/",
          "height": 560
        },
        "id": "lxO6rAXdsvSs",
        "outputId": "d8c2ff83-bc3d-40e9-f920-d0577b6168d8"
      },
      "outputs": [
        {
          "name": "stderr",
          "output_type": "stream",
          "text": [
            "<ipython-input-18-7ccd0a34ef7a>:4: FutureWarning: \n",
            "\n",
            "Passing `palette` without assigning `hue` is deprecated and will be removed in v0.14.0. Assign the `x` variable to `hue` and set `legend=False` for the same effect.\n",
            "\n",
            "  sns.countplot(data = df, x= 'Category',palette='Set2')\n"
          ]
        },
        {
          "data": {
            "image/png": "[encoded data removed]",
            "text/plain": [
              "<Figure size 640x480 with 1 Axes>"
            ]
          },
          "metadata": {},
          "output_type": "display_data"
        }
      ],
      "source": [
        "import seaborn as sns\n",
        "import matplotlib.pyplot as plt\n",
        "\n",
        "sns.countplot(data = df, x= 'Category',palette='Set2')\n",
        "plt.show()"
      ]
    },
    {
      "cell_type": "markdown",
      "metadata": {
        "id": "JTUrQPwaU4Fj"
      },
      "source": [
        "# Text Preprocessing:"
      ]
    },
    {
      "cell_type": "code",
      "execution_count": null,
      "metadata": {
        "id": "rURobNkZU35d"
      },
      "outputs": [],
      "source": [
        "# Created a function to do the preprocessing of the text data:\n",
        "def preprocess_text(text):\n",
        "    # Remove non-letters\n",
        "    text = re.sub(r'[^a-zA-Z]', ' ', text)\n",
        "\n",
        "    # Convert to lowercase\n",
        "    text = text.lower()\n",
        "\n",
        "    # Tokenization\n",
        "    words = word_tokenize(text)\n",
        "\n",
        "    # Remove stopwords\n",
        "    words = [word for word in words if word not in stopwords.words('english')]\n",
        "\n",
        "    # Lemmatization\n",
        "    lemmatizer = WordNetLemmatizer()\n",
        "    words = [lemmatizer.lemmatize(word) for word in words]\n",
        "\n",
        "    return ' '.join(words)"
      ]
    },
    {
      "cell_type": "code",
      "execution_count": null,
      "metadata": {
        "id": "-q_Ivqb1U3zz"
      },
      "outputs": [],
      "source": [
        "df['Processed_Article'] = df['Article'].apply(preprocess_text)"
      ]
    },
    {
      "cell_type": "code",
      "execution_count": null,
      "metadata": {
        "colab": {
          "base_uri": "https://localhost:8080/",
          "height": 206
        },
        "id": "0oIhYddTU3xE",
        "outputId": "c91f8d86-5c92-4c28-85cc-3f64e21ad2de"
      },
      "outputs": [
        {
          "data": {
            "application/vnd.google.colaboratory.intrinsic+json": {
              "summary": "{\n  \"name\": \"df\",\n  \"rows\": 2225,\n  \"fields\": [\n    {\n      \"column\": \"Category\",\n      \"properties\": {\n        \"dtype\": \"category\",\n        \"num_unique_values\": 5,\n        \"samples\": [\n          \"Business\",\n          \"Politics\",\n          \"Sports\"\n        ],\n        \"semantic_type\": \"\",\n        \"description\": \"\"\n      }\n    },\n    {\n      \"column\": \"Article\",\n      \"properties\": {\n        \"dtype\": \"string\",\n        \"num_unique_values\": 2126,\n        \"samples\": [\n          \"plan to give elderly care control elderly and disabled people would choose how their own budget for personal care was spent and organised under government plans.  ministers say elderly and disabled people themselves  not social workers  should be able to decide on their care and stay in their own homes. they also plan a supremo for adult services in each english area to get different agencies working together. but the government shunned opponents  calls for free long-term care.  there are 1.7m people needing care in england and ministers suggest the number could quadruple by 2050. monday s consultation paper on social care for adults in england is aimed at ending a system which generates dependency. health minister stephen ladyman said:  this document is the antithesis of the nanny state.   it s about taking power away from the state and giving it to individuals and saying that we will help you make these decisions but we are not going to make them for you any more.  the government has already allowed local councils to give people money so they can pay for their services directly but take-up of the scheme has been  disappointing .  ministers say the new plans would make direct payments simpler and try to counter reluctance in some local councils to use the payments. they also want to set up a new  half-way house  where social workers tell people how much money is available for their care and help them choose how to spend that  individual budget . the scheme will be funded on existing budgets set until 2008. but mr ladyman said the plans could deliver savings in some areas  such as freeing up nhs beds and preventing illnesses. he ruled out free personal care in england - which is on offer in scotland and wales  saying it was  unsustainable .  david rogers  from the local government association  said agencies were working together on the kind of innovation proposed by the government. and tony hunter  president of the association of directors of social services  said the plans could improve dignity and well-being for thousands of people. but age concern argued social care was chronically under-funded and older people were being offered choice in principle  but not in practice. its director general  gordon lishman  said:  direct payments will not work if there are no services for people to choose from locally.   the tories say people who pay for three years  long-term care directly or through insurance should be guaranteed free care for the rest of their lives. tory spokesman simon burns said more than 80 000 long term care places had been lost since 1997.  after eight years of persistent change  dogmatic enforcement of regulation  and overbearing government initiatives - we need action  not a vision   said mr burns. the lib dems say they would fund free personal care by a new 50% tax rate on incomes over \\u00a3100 000. health spokesman paul burstow said:  promoting independence sounds good and helping people to live in their own homes is a goal we share.  but the risk is that independence can turn into isolation if the right support and care is not available.\",\n          \"beer giant swallows russian firm brewing giant inbev has agreed to buy alfa-eco s stake in sun interbrew  russia s second-largest brewer  for up to 259.7m euros ($353.3m; \\u00a3183.75m).  alfa-eco  the venture capital arm of russian conglomerate alfa group  has a one-fifth stake in sun interbrew. the deal gives inbev  the world s biggest beermaker  near-total control over the russian brewer. inbev bought out another partner in august 2004. inbev brands include bass  stella artois  hoegaarden and staropramen. it employs 77 000 people  running operations in over 30 countries across the americas  europe and asia pacific.  the leuven-based brewery said it would own 97.3% of the voting shares and 98.8% of the non-voting shares of sun interbrew. the deal is expected to be completed in the first quarter of 2005. inbev was formed in august 2004 when belgium s interbrew bought brazilian brewer ambev. sun interbrew  which employs 8 000 staff  owns breweries in eight russian cities - klin  ivanovo  saransk  kursk  volzhsky  omsk  perm and novocheboksarsk. there are also three breweries in ukraine  in the cities of chernigov  nikolaev and kharkov.\",\n          \"athens memories soar above lows well  it s goodbye to another olympic year and as usual there were plenty of highs and lows in athens.  obviously  there s no getting away from the differing fortunes of kelly holmes and paula radcliffe. but i want to remind you of a few more events that made 2004 another year to remember - or forget - for athletics.      one of my favourite olympic moments was kelly s success in the 800m.  winning that race was the key to her success because if she won that then the 1500m would be a bit of a formality. kelly had been full of  should i  shouldn t i   thoughts about going for the double in athens. i thought why wouldn t you do the 800m  it s your best event  it was such good fun to commentate on her 1500m and it was nice to be able to be part of her athens story.      the victory for the british men s 4x100m relay team was a bit of a surprise but a great climax to the games. i think the four of them - jason gardener  darren campbell  marlon devonish and mark lewis-francis - knew deep down that it was their best chance of a medal. the lads had run poorly in the individual sprints so maybe they did lift their game when they knew something was really at stake.      hicham el guerrouj s olympic double is a much bigger achievement than kelly s on a global scale.  he was the first man since for 80 years to win both the 1500m and 5 000m titles. as soon as he had added the 5 000m crown and i had finished commentating  i jumped up  ran down the stairs  pushed everyone out the way and just gave him a big hug. he is one of the few african runners who has embraced the tradition of the mile and he loves to hear all the roger bannister stories. hicham is someone i enjoy having a bit of time with  even though my french and his english are not very good.      what happened to paula in athens this year is the obvious low on a personal level and for the expectations of the nation as well. there were a set of circumstances around athens that conspired to produce a very dramatic ending which i think has been greatly misunderstood. dropping out of the marathon was the right thing to do but starting in the 10 000m five days later was not wise. that was her heart and not her head reacting. paula had a lot of little things going wrong in her preparation and on the day.  things like niggling injuries  not being able to do all her running sessions and feeling the pressure of the race looming ahead of her. i think she came to the start line in athens physically and emotionally drained. and if even the smallest thing doesn t feel right when you are preparing to race a marathon  10 miles down the road it will hit you like a brick wall. the positive thing to take from paula s olympics it that she will have learned a lot from it and so will a lot of people - including me.      purely as a race  paula s victory in the new york marathon has to go down as one of the most thrilling. it was so nip-and-tuck between her and kenya s susan chepkemei and you don t usually get that kind of excitement in marathons. it was also a real delight for all athletics fans because  to use one of my favourite words  paula showed real  bouncebackability . and it was a bit of a rarity for me too because i genuinely did not have an inkling how the race was going to pan out.      kelly and the 4x100m boys  victories papered over the cracks in the general performance of the british team. we should be concerned that we re not producing enough people who are capable of reaching finals at senior level.  the only individual men s finalist on the track was michael east in the 1500m. i am beginning to look down and wonder where are the new breed  and that s where things begin to look even gloomier for british athletics as we did not win any medals at the world junior championships in italy. dani barnes came fourth in the 1500m and she was the highest finisher for team gb. the thing is if we don t have athletes getting into the finals at junior level then it really doesn t look good for the beijing olympics and beyond.      i tell you what i really enjoyed this year  benita johnson winning the world cross country championships back in march. in the absence of paula  we tend to think of the event as something of an african preserve. so to have an australian come up and deliver such a surprise was something special.      to be honest  i m getting bored with all the drug scandals  especially balco. i just wish the whole thing would come to a head so we can move on.  having said that  i m always pleased when drugs cheats are caught because it shows the sport is standing up to it and not turning a blind eye anymore. and one of the positive things to come out of balco is people are starting to blow the whistle. we need more people to come forward and help the authorities kick out the cheats. as regards the case against greek sprinters kostas kenteris and katerina thanou  well suspicions have been hanging over kenteris for a while. the bottom line is we cannot keep letting drugs damage the sport because if we do then it stops everyone enjoying it.\"\n        ],\n        \"semantic_type\": \"\",\n        \"description\": \"\"\n      }\n    },\n    {\n      \"column\": \"Processed_Article\",\n      \"properties\": {\n        \"dtype\": \"string\",\n        \"num_unique_values\": 2117,\n        \"samples\": [\n          \"dutch bank lay staff abn amro netherlands largest bank cut job result falling profit cut amounting bank workforce result one charge euro bn job go investment banking go human resource respectively abn amro third large european bank announce cutback past month following deutsche bank credit suisse group profitability hit fall mortgage lending united state bank largest single market following recent interest rate rise abn amro operation netherlands united kingdom hardest hit job also lost u accounted profit first half across operation america asia pacific region restructuring designed improve efficiency reducing administrative cost increasing focus client service bank said course rise net income year operating profit set fall fall u revenue abn amro currently staff get profit growth coming year lower cost shedding job make total sense ivo geijsen analyst bank oyens van eeghen told bloomberg europe leading bank seem set period retrenchment deutsche bank said earlier month would reduce german workforce many job lost credit suisse first boston\",\n          \"euro firm miss optimism large company around world highly optimistic economic prospect survey boss suggests biggest worry terror threat regulation low cost competition wild ups down oil price one exception firm western europe uk lacking confidence year slow growth business adviser pricewaterhousecoopers pwc conducted survey two year ago nearly boss gloomy prospect global business leader say facing two pronged regulatory assault string corporate scandal united state enron worldcom sarbanes oxley act force company much transparent paperwork cost lot time money across europe meanwhile stock exchange listed company currently process moving new complex accounting standard called ifrs hacking red tape hardly avoided many chief executive around world appear decided deal low cost competitor already boss polled survey say moved part business low wage country another plan future possibly result worry low cost competition slightly fallen last year company calling significant threat one biggest threat pwc global chief executive samuel dipiazza said growing number company also concerned move outsource work cheaper country could hurt reputation home market harm quality service provide customer according frank brown global advisory leader pwc trend large company global operation one clear upside one risk one region example middle east kill business anymore surprisingly survey suggests rapid decline u dollar seen huge threat anymore unlike even year ago cited third largest problem mr dipiazza said interview chief executive suggested company adjusted new reality euro buy others successfully hedged position locked favourable exchange rate survey pricewaterhousecoopers interviewed chief executive throughout world last three month\",\n          \"burren awarded egyptian contract british energy firm burren energy awarded two potentially lucrative oil exploration contract egypt company successfully bid two contract granted government owned oil firm covering onshore offshore area gulf suez burren energy already presence egypt awarded exploration contract last year firm floated recently announced deal buy indian firm hindustan oil exploration deal give burren energy access indian oil gas industry latest contract expands burren energy global exploration production portfolio also hold contract turkmenistan republic congo asset significantly increase exploration portfolio egypt continue investigate opportunity region said chief executive finian sullivan\"\n        ],\n        \"semantic_type\": \"\",\n        \"description\": \"\"\n      }\n    }\n  ]\n}",
              "type": "dataframe",
              "variable_name": "df"
            },
            "text/html": [
              "\n",
              "  <div id=\"df-60c0262e-7df2-4e14-a6ea-655407450184\" class=\"colab-df-container\">\n",
              "    <div>\n",
              "<style scoped>\n",
              "    .dataframe tbody tr th:only-of-type {\n",
              "        vertical-align: middle;\n",
              "    }\n",
              "\n",
              "    .dataframe tbody tr th {\n",
              "        vertical-align: top;\n",
              "    }\n",
              "\n",
              "    .dataframe thead th {\n",
              "        text-align: right;\n",
              "    }\n",
              "</style>\n",
              "<table border=\"1\" class=\"dataframe\">\n",
              "  <thead>\n",
              "    <tr style=\"text-align: right;\">\n",
              "      <th></th>\n",
              "      <th>Category</th>\n",
              "      <th>Article</th>\n",
              "      <th>Processed_Article</th>\n",
              "    </tr>\n",
              "  </thead>\n",
              "  <tbody>\n",
              "    <tr>\n",
              "      <th>0</th>\n",
              "      <td>Technology</td>\n",
              "      <td>tv future in the hands of viewers with home th...</td>\n",
              "      <td>tv future hand viewer home theatre system plas...</td>\n",
              "    </tr>\n",
              "    <tr>\n",
              "      <th>1</th>\n",
              "      <td>Business</td>\n",
              "      <td>worldcom boss  left books alone  former worldc...</td>\n",
              "      <td>worldcom bos left book alone former worldcom b...</td>\n",
              "    </tr>\n",
              "    <tr>\n",
              "      <th>2</th>\n",
              "      <td>Sports</td>\n",
              "      <td>tigers wary of farrell  gamble  leicester say ...</td>\n",
              "      <td>tiger wary farrell gamble leicester say rushed...</td>\n",
              "    </tr>\n",
              "    <tr>\n",
              "      <th>3</th>\n",
              "      <td>Sports</td>\n",
              "      <td>yeading face newcastle in fa cup premiership s...</td>\n",
              "      <td>yeading face newcastle fa cup premiership side...</td>\n",
              "    </tr>\n",
              "    <tr>\n",
              "      <th>4</th>\n",
              "      <td>Entertainment</td>\n",
              "      <td>ocean s twelve raids box office ocean s twelve...</td>\n",
              "      <td>ocean twelve raid box office ocean twelve crim...</td>\n",
              "    </tr>\n",
              "  </tbody>\n",
              "</table>\n",
              "</div>\n",
              "    <div class=\"colab-df-buttons\">\n",
              "\n",
              "  <div class=\"colab-df-container\">\n",
              "    <button class=\"colab-df-convert\" onclick=\"convertToInteractive('df-60c0262e-7df2-4e14-a6ea-655407450184')\"\n",
              "            title=\"Convert this dataframe to an interactive table.\"\n",
              "            style=\"display:none;\">\n",
              "\n",
              "  <svg xmlns=\"http://www.w3.org/2000/svg\" height=\"24px\" viewBox=\"0 -960 960 960\">\n",
              "    <path d=\"M120-120v-720h720v720H120Zm60-500h600v-160H180v160Zm220 220h160v-160H400v160Zm0 220h160v-160H400v160ZM180-400h160v-160H180v160Zm440 0h160v-160H620v160ZM180-180h160v-160H180v160Zm440 0h160v-160H620v160Z\"/>\n",
              "  </svg>\n",
              "    </button>\n",
              "\n",
              "  <style>\n",
              "    .colab-df-container {\n",
              "      display:flex;\n",
              "      gap: 12px;\n",
              "    }\n",
              "\n",
              "    .colab-df-convert {\n",
              "      background-color: #E8F0FE;\n",
              "      border: none;\n",
              "      border-radius: 50%;\n",
              "      cursor: pointer;\n",
              "      display: none;\n",
              "      fill: #1967D2;\n",
              "      height: 32px;\n",
              "      padding: 0 0 0 0;\n",
              "      width: 32px;\n",
              "    }\n",
              "\n",
              "    .colab-df-convert:hover {\n",
              "      background-color: #E2EBFA;\n",
              "      box-shadow: 0px 1px 2px rgba(60, 64, 67, 0.3), 0px 1px 3px 1px rgba(60, 64, 67, 0.15);\n",
              "      fill: #174EA6;\n",
              "    }\n",
              "\n",
              "    .colab-df-buttons div {\n",
              "      margin-bottom: 4px;\n",
              "    }\n",
              "\n",
              "    [theme=dark] .colab-df-convert {\n",
              "      background-color: #3B4455;\n",
              "      fill: #D2E3FC;\n",
              "    }\n",
              "\n",
              "    [theme=dark] .colab-df-convert:hover {\n",
              "      background-color: #434B5C;\n",
              "      box-shadow: 0px 1px 3px 1px rgba(0, 0, 0, 0.15);\n",
              "      filter: drop-shadow(0px 1px 2px rgba(0, 0, 0, 0.3));\n",
              "      fill: #FFFFFF;\n",
              "    }\n",
              "  </style>\n",
              "\n",
              "    <script>\n",
              "      const buttonEl =\n",
              "        document.querySelector('#df-60c0262e-7df2-4e14-a6ea-655407450184 button.colab-df-convert');\n",
              "      buttonEl.style.display =\n",
              "        google.colab.kernel.accessAllowed ? 'block' : 'none';\n",
              "\n",
              "      async function convertToInteractive(key) {\n",
              "        const element = document.querySelector('#df-60c0262e-7df2-4e14-a6ea-655407450184');\n",
              "        const dataTable =\n",
              "          await google.colab.kernel.invokeFunction('convertToInteractive',\n",
              "                                                    [key], {});\n",
              "        if (!dataTable) return;\n",
              "\n",
              "        const docLinkHtml = 'Like what you see? Visit the ' +\n",
              "          '<a target=\"_blank\" href=https://colab.research.google.com/notebooks/data_table.ipynb>data table notebook</a>'\n",
              "          + ' to learn more about interactive tables.';\n",
              "        element.innerHTML = '';\n",
              "        dataTable['output_type'] = 'display_data';\n",
              "        await google.colab.output.renderOutput(dataTable, element);\n",
              "        const docLink = document.createElement('div');\n",
              "        docLink.innerHTML = docLinkHtml;\n",
              "        element.appendChild(docLink);\n",
              "      }\n",
              "    </script>\n",
              "  </div>\n",
              "\n",
              "\n",
              "<div id=\"df-81b52547-5d33-4c51-8aa8-a39f09bd04fa\">\n",
              "  <button class=\"colab-df-quickchart\" onclick=\"quickchart('df-81b52547-5d33-4c51-8aa8-a39f09bd04fa')\"\n",
              "            title=\"Suggest charts\"\n",
              "            style=\"display:none;\">\n",
              "\n",
              "<svg xmlns=\"http://www.w3.org/2000/svg\" height=\"24px\"viewBox=\"0 0 24 24\"\n",
              "     width=\"24px\">\n",
              "    <g>\n",
              "        <path d=\"M19 3H5c-1.1 0-2 .9-2 2v14c0 1.1.9 2 2 2h14c1.1 0 2-.9 2-2V5c0-1.1-.9-2-2-2zM9 17H7v-7h2v7zm4 0h-2V7h2v10zm4 0h-2v-4h2v4z\"/>\n",
              "    </g>\n",
              "</svg>\n",
              "  </button>\n",
              "\n",
              "<style>\n",
              "  .colab-df-quickchart {\n",
              "      --bg-color: #E8F0FE;\n",
              "      --fill-color: #1967D2;\n",
              "      --hover-bg-color: #E2EBFA;\n",
              "      --hover-fill-color: #174EA6;\n",
              "      --disabled-fill-color: #AAA;\n",
              "      --disabled-bg-color: #DDD;\n",
              "  }\n",
              "\n",
              "  [theme=dark] .colab-df-quickchart {\n",
              "      --bg-color: #3B4455;\n",
              "      --fill-color: #D2E3FC;\n",
              "      --hover-bg-color: #434B5C;\n",
              "      --hover-fill-color: #FFFFFF;\n",
              "      --disabled-bg-color: #3B4455;\n",
              "      --disabled-fill-color: #666;\n",
              "  }\n",
              "\n",
              "  .colab-df-quickchart {\n",
              "    background-color: var(--bg-color);\n",
              "    border: none;\n",
              "    border-radius: 50%;\n",
              "    cursor: pointer;\n",
              "    display: none;\n",
              "    fill: var(--fill-color);\n",
              "    height: 32px;\n",
              "    padding: 0;\n",
              "    width: 32px;\n",
              "  }\n",
              "\n",
              "  .colab-df-quickchart:hover {\n",
              "    background-color: var(--hover-bg-color);\n",
              "    box-shadow: 0 1px 2px rgba(60, 64, 67, 0.3), 0 1px 3px 1px rgba(60, 64, 67, 0.15);\n",
              "    fill: var(--button-hover-fill-color);\n",
              "  }\n",
              "\n",
              "  .colab-df-quickchart-complete:disabled,\n",
              "  .colab-df-quickchart-complete:disabled:hover {\n",
              "    background-color: var(--disabled-bg-color);\n",
              "    fill: var(--disabled-fill-color);\n",
              "    box-shadow: none;\n",
              "  }\n",
              "\n",
              "  .colab-df-spinner {\n",
              "    border: 2px solid var(--fill-color);\n",
              "    border-color: transparent;\n",
              "    border-bottom-color: var(--fill-color);\n",
              "    animation:\n",
              "      spin 1s steps(1) infinite;\n",
              "  }\n",
              "\n",
              "  @keyframes spin {\n",
              "    0% {\n",
              "      border-color: transparent;\n",
              "      border-bottom-color: var(--fill-color);\n",
              "      border-left-color: var(--fill-color);\n",
              "    }\n",
              "    20% {\n",
              "      border-color: transparent;\n",
              "      border-left-color: var(--fill-color);\n",
              "      border-top-color: var(--fill-color);\n",
              "    }\n",
              "    30% {\n",
              "      border-color: transparent;\n",
              "      border-left-color: var(--fill-color);\n",
              "      border-top-color: var(--fill-color);\n",
              "      border-right-color: var(--fill-color);\n",
              "    }\n",
              "    40% {\n",
              "      border-color: transparent;\n",
              "      border-right-color: var(--fill-color);\n",
              "      border-top-color: var(--fill-color);\n",
              "    }\n",
              "    60% {\n",
              "      border-color: transparent;\n",
              "      border-right-color: var(--fill-color);\n",
              "    }\n",
              "    80% {\n",
              "      border-color: transparent;\n",
              "      border-right-color: var(--fill-color);\n",
              "      border-bottom-color: var(--fill-color);\n",
              "    }\n",
              "    90% {\n",
              "      border-color: transparent;\n",
              "      border-bottom-color: var(--fill-color);\n",
              "    }\n",
              "  }\n",
              "</style>\n",
              "\n",
              "  <script>\n",
              "    async function quickchart(key) {\n",
              "      const quickchartButtonEl =\n",
              "        document.querySelector('#' + key + ' button');\n",
              "      quickchartButtonEl.disabled = true;  // To prevent multiple clicks.\n",
              "      quickchartButtonEl.classList.add('colab-df-spinner');\n",
              "      try {\n",
              "        const charts = await google.colab.kernel.invokeFunction(\n",
              "            'suggestCharts', [key], {});\n",
              "      } catch (error) {\n",
              "        console.error('Error during call to suggestCharts:', error);\n",
              "      }\n",
              "      quickchartButtonEl.classList.remove('colab-df-spinner');\n",
              "      quickchartButtonEl.classList.add('colab-df-quickchart-complete');\n",
              "    }\n",
              "    (() => {\n",
              "      let quickchartButtonEl =\n",
              "        document.querySelector('#df-81b52547-5d33-4c51-8aa8-a39f09bd04fa button');\n",
              "      quickchartButtonEl.style.display =\n",
              "        google.colab.kernel.accessAllowed ? 'block' : 'none';\n",
              "    })();\n",
              "  </script>\n",
              "</div>\n",
              "\n",
              "    </div>\n",
              "  </div>\n"
            ],
            "text/plain": [
              "        Category                                            Article  \\\n",
              "0     Technology  tv future in the hands of viewers with home th...   \n",
              "1       Business  worldcom boss  left books alone  former worldc...   \n",
              "2         Sports  tigers wary of farrell  gamble  leicester say ...   \n",
              "3         Sports  yeading face newcastle in fa cup premiership s...   \n",
              "4  Entertainment  ocean s twelve raids box office ocean s twelve...   \n",
              "\n",
              "                                   Processed_Article  \n",
              "0  tv future hand viewer home theatre system plas...  \n",
              "1  worldcom bos left book alone former worldcom b...  \n",
              "2  tiger wary farrell gamble leicester say rushed...  \n",
              "3  yeading face newcastle fa cup premiership side...  \n",
              "4  ocean twelve raid box office ocean twelve crim...  "
            ]
          },
          "execution_count": 21,
          "metadata": {},
          "output_type": "execute_result"
        }
      ],
      "source": [
        "df.head()"
      ]
    },
    {
      "cell_type": "markdown",
      "metadata": {
        "id": "VEjcRPRMYAlC"
      },
      "source": [
        "# Encoding Target Variable:"
      ]
    },
    {
      "cell_type": "code",
      "execution_count": null,
      "metadata": {
        "id": "zAhqYz6aU3uK"
      },
      "outputs": [],
      "source": [
        "from sklearn.preprocessing import LabelEncoder\n",
        "\n",
        "le = LabelEncoder()\n",
        "df['Category_Encoded'] = le.fit_transform(df['Category'])"
      ]
    },
    {
      "cell_type": "code",
      "execution_count": null,
      "metadata": {
        "colab": {
          "base_uri": "https://localhost:8080/",
          "height": 206
        },
        "id": "DeNPXuWcU3q_",
        "outputId": "51db2b7a-22e1-4c04-add8-57c34b61da27"
      },
      "outputs": [
        {
          "data": {
            "application/vnd.google.colaboratory.intrinsic+json": {
              "summary": "{\n  \"name\": \"df\",\n  \"rows\": 5,\n  \"fields\": [\n    {\n      \"column\": \"Category\",\n      \"properties\": {\n        \"dtype\": \"string\",\n        \"num_unique_values\": 5,\n        \"samples\": [\n          \"Entertainment\",\n          \"Politics\",\n          \"Technology\"\n        ],\n        \"semantic_type\": \"\",\n        \"description\": \"\"\n      }\n    },\n    {\n      \"column\": \"Article\",\n      \"properties\": {\n        \"dtype\": \"string\",\n        \"num_unique_values\": 5,\n        \"samples\": [\n          \"brookside creator s channel 4 bid the creator of defunct tv soap brookside has written to the culture minister to offer to buy channel 4.  phil redmond  now chairman of mersey tv  told tessa jowell he would run it with its current remit intact for the next 10 years. but media watchdog ofcom has said the the commercially funded public service broadcaster will not be privatised. a spokesman for the department for culture  media and sport said there were no plans to sell the channel.  he added that primary legislation would be required for the station to be sold off  which the government was not intending to introduce. brookside was axed in 2003 after its ratings slumped from a peak of seven million to just 1.5 million. redmond also brought teen soap hollyoaks to channel 4 and created grange hill  the school-based drama serial which was first broadcast on bbc one in 1978. he was awarded the cbe for services to drama earlier this year.\",\n          \"job cuts  false economy   - tuc plans to shed 71 000 civil service jobs will prove to be a  false economy  that could hamper public sector reforms  according to a tuc report.  public and commercial services union members have already voted to strike over cuts for one day on 5 november. the tuc said cuts would deliver less than 6% of the \\u00a322bn ministers hope to save through efficiency reforms. general secretary brendan barber warned the  costs could easily outweigh the benefits .  the government s big boost to public spending is now showing results   said mr barber.  public services are improving but looking for simple savings through job cuts at this stage could be a false economy.   they may shoot a tory fox  but cutting thousands of civil service jobs will hit the morale and capabilities of the public servants expected to implement government reforms. the costs could easily outweigh the benefits.  next friday s strike action by the pcs is the biggest in the civil service since 1993  hitting jobcentres  benefit agencies  pensions offices  customs and driving tests. the union says it is concerned about pensions  sick pay and forced relocation as well as the cut in jobs. last month it was announced that a total of 37 social security offices and jobcentres across the uk would close in the first wave of plans to shed civil service jobs. the number of civil servants in britain rose to more than 520 000 in april. other areas the strike will affect include passports  museums and galleries  libraries and health and safety inspections.\",\n          \"bbc web search aids odd queries the bbc s online search engine was used a record amount in 2004  helping with enquires both simple and strange.  more than 277 million enquiries were made  asking for informaton of a wide range of subjects. the most requested search terms of 2004 included games  eastenders  cbbc  john peel  harry potter and olympics. but there were many strange enquiries  including: what is a dog   how do you say basketball  and what is the biggest collection of naval fluff  the search engine works by matching key words typed in to different web pages but many people still type in natural language questions. here are some of the strangest queries of 2004 - spelling and grammar errors left untouched - and their possible solutions:    - how to fold a serviette like an elf s boot        - how do i structure a french letter        - what is better one long vacation each year or several short vacations throughout the year        - what is so special about the swiss        - what are the contemporary issue in nurses        - what is the number 4 in this number 40052308090        - what is up        - what is the name of james martin s dog      search engines are key to the way people use the internet. companies such as google have become of paramount importance as they dictate how people travel through websites while online.\"\n        ],\n        \"semantic_type\": \"\",\n        \"description\": \"\"\n      }\n    },\n    {\n      \"column\": \"Processed_Article\",\n      \"properties\": {\n        \"dtype\": \"string\",\n        \"num_unique_values\": 5,\n        \"samples\": [\n          \"brookside creator channel bid creator defunct tv soap brookside written culture minister offer buy channel phil redmond chairman mersey tv told tessa jowell would run current remit intact next year medium watchdog ofcom said commercially funded public service broadcaster privatised spokesman department culture medium sport said plan sell channel added primary legislation would required station sold government intending introduce brookside axed rating slumped peak seven million million redmond also brought teen soap hollyoaks channel created grange hill school based drama serial first broadcast bbc one awarded cbe service drama earlier year\",\n          \"job cut false economy tuc plan shed civil service job prove false economy could hamper public sector reform according tuc report public commercial service union member already voted strike cut one day november tuc said cut would deliver le bn minister hope save efficiency reform general secretary brendan barber warned cost could easily outweigh benefit government big boost public spending showing result said mr barber public service improving looking simple saving job cut stage could false economy may shoot tory fox cutting thousand civil service job hit morale capability public servant expected implement government reform cost could easily outweigh benefit next friday strike action pc biggest civil service since hitting jobcentre benefit agency pension office custom driving test union say concerned pension sick pay forced relocation well cut job last month announced total social security office jobcentre across uk would close first wave plan shed civil service job number civil servant britain rose april area strike affect include passport museum gallery library health safety inspection\",\n          \"bbc web search aid odd query bbc online search engine used record amount helping enquires simple strange million enquiry made asking informaton wide range subject requested search term included game eastenders cbbc john peel harry potter olympics many strange enquiry including dog say basketball biggest collection naval fluff search engine work matching key word typed different web page many people still type natural language question strangest query spelling grammar error left untouched possible solution fold serviette like elf boot structure french letter better one long vacation year several short vacation throughout year special swiss contemporary issue nurse number number name james martin dog search engine key way people use internet company google become paramount importance dictate people travel website online\"\n        ],\n        \"semantic_type\": \"\",\n        \"description\": \"\"\n      }\n    },\n    {\n      \"column\": \"Category_Encoded\",\n      \"properties\": {\n        \"dtype\": \"number\",\n        \"std\": 1,\n        \"min\": 0,\n        \"max\": 4,\n        \"num_unique_values\": 5,\n        \"samples\": [\n          1,\n          2,\n          4\n        ],\n        \"semantic_type\": \"\",\n        \"description\": \"\"\n      }\n    }\n  ]\n}",
              "type": "dataframe"
            },
            "text/html": [
              "\n",
              "  <div id=\"df-b5aef392-d838-4f59-bb7f-1b088ee109a9\" class=\"colab-df-container\">\n",
              "    <div>\n",
              "<style scoped>\n",
              "    .dataframe tbody tr th:only-of-type {\n",
              "        vertical-align: middle;\n",
              "    }\n",
              "\n",
              "    .dataframe tbody tr th {\n",
              "        vertical-align: top;\n",
              "    }\n",
              "\n",
              "    .dataframe thead th {\n",
              "        text-align: right;\n",
              "    }\n",
              "</style>\n",
              "<table border=\"1\" class=\"dataframe\">\n",
              "  <thead>\n",
              "    <tr style=\"text-align: right;\">\n",
              "      <th></th>\n",
              "      <th>Category</th>\n",
              "      <th>Article</th>\n",
              "      <th>Processed_Article</th>\n",
              "      <th>Category_Encoded</th>\n",
              "    </tr>\n",
              "  </thead>\n",
              "  <tbody>\n",
              "    <tr>\n",
              "      <th>199</th>\n",
              "      <td>Business</td>\n",
              "      <td>card fraudsters  targeting web  new safeguards...</td>\n",
              "      <td>card fraudsters targeting web new safeguard cr...</td>\n",
              "      <td>0</td>\n",
              "    </tr>\n",
              "    <tr>\n",
              "      <th>1567</th>\n",
              "      <td>Entertainment</td>\n",
              "      <td>brookside creator s channel 4 bid the creator ...</td>\n",
              "      <td>brookside creator channel bid creator defunct ...</td>\n",
              "      <td>1</td>\n",
              "    </tr>\n",
              "    <tr>\n",
              "      <th>1178</th>\n",
              "      <td>Technology</td>\n",
              "      <td>bbc web search aids odd queries the bbc s onli...</td>\n",
              "      <td>bbc web search aid odd query bbc online search...</td>\n",
              "      <td>4</td>\n",
              "    </tr>\n",
              "    <tr>\n",
              "      <th>605</th>\n",
              "      <td>Sports</td>\n",
              "      <td>parry firm over gerrard listen to the full int...</td>\n",
              "      <td>parry firm gerrard listen full interview sport...</td>\n",
              "      <td>3</td>\n",
              "    </tr>\n",
              "    <tr>\n",
              "      <th>2026</th>\n",
              "      <td>Politics</td>\n",
              "      <td>job cuts  false economy   - tuc plans to shed ...</td>\n",
              "      <td>job cut false economy tuc plan shed civil serv...</td>\n",
              "      <td>2</td>\n",
              "    </tr>\n",
              "  </tbody>\n",
              "</table>\n",
              "</div>\n",
              "    <div class=\"colab-df-buttons\">\n",
              "\n",
              "  <div class=\"colab-df-container\">\n",
              "    <button class=\"colab-df-convert\" onclick=\"convertToInteractive('df-b5aef392-d838-4f59-bb7f-1b088ee109a9')\"\n",
              "            title=\"Convert this dataframe to an interactive table.\"\n",
              "            style=\"display:none;\">\n",
              "\n",
              "  <svg xmlns=\"http://www.w3.org/2000/svg\" height=\"24px\" viewBox=\"0 -960 960 960\">\n",
              "    <path d=\"M120-120v-720h720v720H120Zm60-500h600v-160H180v160Zm220 220h160v-160H400v160Zm0 220h160v-160H400v160ZM180-400h160v-160H180v160Zm440 0h160v-160H620v160ZM180-180h160v-160H180v160Zm440 0h160v-160H620v160Z\"/>\n",
              "  </svg>\n",
              "    </button>\n",
              "\n",
              "  <style>\n",
              "    .colab-df-container {\n",
              "      display:flex;\n",
              "      gap: 12px;\n",
              "    }\n",
              "\n",
              "    .colab-df-convert {\n",
              "      background-color: #E8F0FE;\n",
              "      border: none;\n",
              "      border-radius: 50%;\n",
              "      cursor: pointer;\n",
              "      display: none;\n",
              "      fill: #1967D2;\n",
              "      height: 32px;\n",
              "      padding: 0 0 0 0;\n",
              "      width: 32px;\n",
              "    }\n",
              "\n",
              "    .colab-df-convert:hover {\n",
              "      background-color: #E2EBFA;\n",
              "      box-shadow: 0px 1px 2px rgba(60, 64, 67, 0.3), 0px 1px 3px 1px rgba(60, 64, 67, 0.15);\n",
              "      fill: #174EA6;\n",
              "    }\n",
              "\n",
              "    .colab-df-buttons div {\n",
              "      margin-bottom: 4px;\n",
              "    }\n",
              "\n",
              "    [theme=dark] .colab-df-convert {\n",
              "      background-color: #3B4455;\n",
              "      fill: #D2E3FC;\n",
              "    }\n",
              "\n",
              "    [theme=dark] .colab-df-convert:hover {\n",
              "      background-color: #434B5C;\n",
              "      box-shadow: 0px 1px 3px 1px rgba(0, 0, 0, 0.15);\n",
              "      filter: drop-shadow(0px 1px 2px rgba(0, 0, 0, 0.3));\n",
              "      fill: #FFFFFF;\n",
              "    }\n",
              "  </style>\n",
              "\n",
              "    <script>\n",
              "      const buttonEl =\n",
              "        document.querySelector('#df-b5aef392-d838-4f59-bb7f-1b088ee109a9 button.colab-df-convert');\n",
              "      buttonEl.style.display =\n",
              "        google.colab.kernel.accessAllowed ? 'block' : 'none';\n",
              "\n",
              "      async function convertToInteractive(key) {\n",
              "        const element = document.querySelector('#df-b5aef392-d838-4f59-bb7f-1b088ee109a9');\n",
              "        const dataTable =\n",
              "          await google.colab.kernel.invokeFunction('convertToInteractive',\n",
              "                                                    [key], {});\n",
              "        if (!dataTable) return;\n",
              "\n",
              "        const docLinkHtml = 'Like what you see? Visit the ' +\n",
              "          '<a target=\"_blank\" href=https://colab.research.google.com/notebooks/data_table.ipynb>data table notebook</a>'\n",
              "          + ' to learn more about interactive tables.';\n",
              "        element.innerHTML = '';\n",
              "        dataTable['output_type'] = 'display_data';\n",
              "        await google.colab.output.renderOutput(dataTable, element);\n",
              "        const docLink = document.createElement('div');\n",
              "        docLink.innerHTML = docLinkHtml;\n",
              "        element.appendChild(docLink);\n",
              "      }\n",
              "    </script>\n",
              "  </div>\n",
              "\n",
              "\n",
              "<div id=\"df-cadaad20-d18b-464f-bdc1-5140eb097977\">\n",
              "  <button class=\"colab-df-quickchart\" onclick=\"quickchart('df-cadaad20-d18b-464f-bdc1-5140eb097977')\"\n",
              "            title=\"Suggest charts\"\n",
              "            style=\"display:none;\">\n",
              "\n",
              "<svg xmlns=\"http://www.w3.org/2000/svg\" height=\"24px\"viewBox=\"0 0 24 24\"\n",
              "     width=\"24px\">\n",
              "    <g>\n",
              "        <path d=\"M19 3H5c-1.1 0-2 .9-2 2v14c0 1.1.9 2 2 2h14c1.1 0 2-.9 2-2V5c0-1.1-.9-2-2-2zM9 17H7v-7h2v7zm4 0h-2V7h2v10zm4 0h-2v-4h2v4z\"/>\n",
              "    </g>\n",
              "</svg>\n",
              "  </button>\n",
              "\n",
              "<style>\n",
              "  .colab-df-quickchart {\n",
              "      --bg-color: #E8F0FE;\n",
              "      --fill-color: #1967D2;\n",
              "      --hover-bg-color: #E2EBFA;\n",
              "      --hover-fill-color: #174EA6;\n",
              "      --disabled-fill-color: #AAA;\n",
              "      --disabled-bg-color: #DDD;\n",
              "  }\n",
              "\n",
              "  [theme=dark] .colab-df-quickchart {\n",
              "      --bg-color: #3B4455;\n",
              "      --fill-color: #D2E3FC;\n",
              "      --hover-bg-color: #434B5C;\n",
              "      --hover-fill-color: #FFFFFF;\n",
              "      --disabled-bg-color: #3B4455;\n",
              "      --disabled-fill-color: #666;\n",
              "  }\n",
              "\n",
              "  .colab-df-quickchart {\n",
              "    background-color: var(--bg-color);\n",
              "    border: none;\n",
              "    border-radius: 50%;\n",
              "    cursor: pointer;\n",
              "    display: none;\n",
              "    fill: var(--fill-color);\n",
              "    height: 32px;\n",
              "    padding: 0;\n",
              "    width: 32px;\n",
              "  }\n",
              "\n",
              "  .colab-df-quickchart:hover {\n",
              "    background-color: var(--hover-bg-color);\n",
              "    box-shadow: 0 1px 2px rgba(60, 64, 67, 0.3), 0 1px 3px 1px rgba(60, 64, 67, 0.15);\n",
              "    fill: var(--button-hover-fill-color);\n",
              "  }\n",
              "\n",
              "  .colab-df-quickchart-complete:disabled,\n",
              "  .colab-df-quickchart-complete:disabled:hover {\n",
              "    background-color: var(--disabled-bg-color);\n",
              "    fill: var(--disabled-fill-color);\n",
              "    box-shadow: none;\n",
              "  }\n",
              "\n",
              "  .colab-df-spinner {\n",
              "    border: 2px solid var(--fill-color);\n",
              "    border-color: transparent;\n",
              "    border-bottom-color: var(--fill-color);\n",
              "    animation:\n",
              "      spin 1s steps(1) infinite;\n",
              "  }\n",
              "\n",
              "  @keyframes spin {\n",
              "    0% {\n",
              "      border-color: transparent;\n",
              "      border-bottom-color: var(--fill-color);\n",
              "      border-left-color: var(--fill-color);\n",
              "    }\n",
              "    20% {\n",
              "      border-color: transparent;\n",
              "      border-left-color: var(--fill-color);\n",
              "      border-top-color: var(--fill-color);\n",
              "    }\n",
              "    30% {\n",
              "      border-color: transparent;\n",
              "      border-left-color: var(--fill-color);\n",
              "      border-top-color: var(--fill-color);\n",
              "      border-right-color: var(--fill-color);\n",
              "    }\n",
              "    40% {\n",
              "      border-color: transparent;\n",
              "      border-right-color: var(--fill-color);\n",
              "      border-top-color: var(--fill-color);\n",
              "    }\n",
              "    60% {\n",
              "      border-color: transparent;\n",
              "      border-right-color: var(--fill-color);\n",
              "    }\n",
              "    80% {\n",
              "      border-color: transparent;\n",
              "      border-right-color: var(--fill-color);\n",
              "      border-bottom-color: var(--fill-color);\n",
              "    }\n",
              "    90% {\n",
              "      border-color: transparent;\n",
              "      border-bottom-color: var(--fill-color);\n",
              "    }\n",
              "  }\n",
              "</style>\n",
              "\n",
              "  <script>\n",
              "    async function quickchart(key) {\n",
              "      const quickchartButtonEl =\n",
              "        document.querySelector('#' + key + ' button');\n",
              "      quickchartButtonEl.disabled = true;  // To prevent multiple clicks.\n",
              "      quickchartButtonEl.classList.add('colab-df-spinner');\n",
              "      try {\n",
              "        const charts = await google.colab.kernel.invokeFunction(\n",
              "            'suggestCharts', [key], {});\n",
              "      } catch (error) {\n",
              "        console.error('Error during call to suggestCharts:', error);\n",
              "      }\n",
              "      quickchartButtonEl.classList.remove('colab-df-spinner');\n",
              "      quickchartButtonEl.classList.add('colab-df-quickchart-complete');\n",
              "    }\n",
              "    (() => {\n",
              "      let quickchartButtonEl =\n",
              "        document.querySelector('#df-cadaad20-d18b-464f-bdc1-5140eb097977 button');\n",
              "      quickchartButtonEl.style.display =\n",
              "        google.colab.kernel.accessAllowed ? 'block' : 'none';\n",
              "    })();\n",
              "  </script>\n",
              "</div>\n",
              "\n",
              "    </div>\n",
              "  </div>\n"
            ],
            "text/plain": [
              "           Category                                            Article  \\\n",
              "199        Business  card fraudsters  targeting web  new safeguards...   \n",
              "1567  Entertainment  brookside creator s channel 4 bid the creator ...   \n",
              "1178     Technology  bbc web search aids odd queries the bbc s onli...   \n",
              "605          Sports  parry firm over gerrard listen to the full int...   \n",
              "2026       Politics  job cuts  false economy   - tuc plans to shed ...   \n",
              "\n",
              "                                      Processed_Article  Category_Encoded  \n",
              "199   card fraudsters targeting web new safeguard cr...                 0  \n",
              "1567  brookside creator channel bid creator defunct ...                 1  \n",
              "1178  bbc web search aid odd query bbc online search...                 4  \n",
              "605   parry firm gerrard listen full interview sport...                 3  \n",
              "2026  job cut false economy tuc plan shed civil serv...                 2  "
            ]
          },
          "execution_count": 23,
          "metadata": {},
          "output_type": "execute_result"
        }
      ],
      "source": [
        "df.sample(5)"
      ]
    },
    {
      "cell_type": "markdown",
      "metadata": {
        "id": "v5xwlotpYaff"
      },
      "source": [
        "# Transforming data:\n",
        "Create an option for the user to choose between Bag of Words and TF-IDF techniques for vectorizing the data."
      ]
    },
    {
      "cell_type": "code",
      "execution_count": null,
      "metadata": {
        "id": "urVvY7SGMkoO"
      },
      "outputs": [],
      "source": [
        "# choice = input(\"Choose vectorization method (1 for Bag of Words, 2 for TF-IDF): \")\n",
        "\n",
        "# if choice == '1':\n",
        "#     vectorizer = CountVectorizer()\n",
        "# else:\n",
        "#     vectorizer = TfidfVectorizer()\n",
        "\n",
        "# X = vectorizer.fit_transform(df['Processed_Article'])\n",
        "# y = df['Category_Encoded']"
      ]
    },
    {
      "cell_type": "code",
      "execution_count": null,
      "metadata": {
        "colab": {
          "base_uri": "https://localhost:8080/"
        },
        "id": "59kgZ9lTMkmM",
        "outputId": "41068adc-8fc2-4b95-c340-2f32c45637a4"
      },
      "outputs": [
        {
          "name": "stdout",
          "output_type": "stream",
          "text": [
            "tv: 22809\n",
            "future: 8824\n",
            "hand: 9758\n",
            "viewer: 23640\n",
            "home: 10327\n",
            "theatre: 22104\n",
            "system: 21712\n",
            "plasma: 16582\n",
            "high: 10175\n",
            "definition: 5610\n",
            "Bag of Words Matrix: (2225, 24718)\n",
            "[[0 0 0 ... 0 0 0]\n",
            " [0 0 0 ... 0 0 0]\n",
            " [0 0 0 ... 0 0 0]\n",
            " ...\n",
            " [0 0 0 ... 0 0 0]\n",
            " [0 0 0 ... 0 0 0]\n",
            " [0 0 0 ... 0 0 0]]\n"
          ]
        }
      ],
      "source": [
        "# Bag of Words\n",
        "\n",
        "from sklearn.feature_extraction.text import CountVectorizer\n",
        "\n",
        "cv=CountVectorizer()\n",
        "bow = cv.fit_transform(df['Processed_Article'])\n",
        "# print(\"\\nVocabulary:\")\n",
        "\n",
        "vocab_items = list(cv.vocabulary_.items())[:10]\n",
        "\n",
        "for word, index in vocab_items:\n",
        "    print(f\"{word}: {index}\")\n",
        "\n",
        "# Display the BOW matrix and vocabulary\n",
        "print(\"Bag of Words Matrix:\",bow.toarray().shape)\n",
        "print(bow.toarray())"
      ]
    },
    {
      "cell_type": "code",
      "execution_count": null,
      "metadata": {
        "colab": {
          "base_uri": "https://localhost:8080/"
        },
        "id": "jx6oi-B8uOo0",
        "outputId": "bd7b1a32-c44b-448d-ada8-31a5eeea6e73"
      },
      "outputs": [
        {
          "data": {
            "text/plain": [
              "array([[0, 0, 0, ..., 0, 0, 0],\n",
              "       [0, 0, 0, ..., 0, 0, 0],\n",
              "       [0, 0, 0, ..., 0, 0, 0],\n",
              "       ...,\n",
              "       [0, 0, 0, ..., 0, 0, 0],\n",
              "       [0, 0, 0, ..., 0, 0, 0],\n",
              "       [0, 0, 0, ..., 0, 0, 0]])"
            ]
          },
          "execution_count": 26,
          "metadata": {},
          "output_type": "execute_result"
        }
      ],
      "source": [
        "bow.toarray()"
      ]
    },
    {
      "cell_type": "code",
      "execution_count": null,
      "metadata": {
        "colab": {
          "base_uri": "https://localhost:8080/"
        },
        "id": "0g9FiHDvtbjo",
        "outputId": "706582ae-85d6-406a-adcd-32b7489a8698"
      },
      "outputs": [
        {
          "name": "stdout",
          "output_type": "stream",
          "text": [
            "\n",
            "Vocabulary:\n",
            "tv: 22809\n",
            "future: 8824\n",
            "hand: 9758\n",
            "viewer: 23640\n",
            "home: 10327\n",
            "theatre: 22104\n",
            "system: 21712\n",
            "plasma: 16582\n",
            "high: 10175\n",
            "definition: 5610\n",
            "TFIDF Matrix: (2225, 24718)\n",
            "[[0. 0. 0. ... 0. 0. 0.]\n",
            " [0. 0. 0. ... 0. 0. 0.]\n",
            " [0. 0. 0. ... 0. 0. 0.]\n",
            " ...\n",
            " [0. 0. 0. ... 0. 0. 0.]\n",
            " [0. 0. 0. ... 0. 0. 0.]\n",
            " [0. 0. 0. ... 0. 0. 0.]]\n"
          ]
        }
      ],
      "source": [
        "# TFIDF - Term Frequency/Inverse Document Frequency\n",
        "\n",
        "from sklearn.feature_extraction.text import TfidfVectorizer\n",
        "tfidf=TfidfVectorizer()\n",
        "#print(tfidf.idf_)\n",
        "TFIDF = tfidf.fit_transform(df['Processed_Article'])\n",
        "print(\"\\nVocabulary:\")\n",
        "vocab_items_tfidf = list(tfidf.vocabulary_.items())[:10]\n",
        "for word, index in vocab_items_tfidf:\n",
        "    print(f\"{word}: {index}\")\n",
        "#print(tfidf.vocabulary_)\n",
        "\n",
        "# Display the BOW matrix and vocabulary\n",
        "print(\"TFIDF Matrix:\",TFIDF.toarray().shape)\n",
        "print(TFIDF.toarray())"
      ]
    },
    {
      "cell_type": "code",
      "execution_count": null,
      "metadata": {
        "colab": {
          "base_uri": "https://localhost:8080/"
        },
        "id": "PTnd39yStbgR",
        "outputId": "fd57583a-c75e-4ce7-fd53-d39565de3c7b"
      },
      "outputs": [
        {
          "data": {
            "text/plain": [
              "array([[0., 0., 0., ..., 0., 0., 0.],\n",
              "       [0., 0., 0., ..., 0., 0., 0.],\n",
              "       [0., 0., 0., ..., 0., 0., 0.],\n",
              "       ...,\n",
              "       [0., 0., 0., ..., 0., 0., 0.],\n",
              "       [0., 0., 0., ..., 0., 0., 0.],\n",
              "       [0., 0., 0., ..., 0., 0., 0.]])"
            ]
          },
          "execution_count": 28,
          "metadata": {},
          "output_type": "execute_result"
        }
      ],
      "source": [
        "TFIDF.toarray()"
      ]
    },
    {
      "cell_type": "code",
      "execution_count": null,
      "metadata": {
        "colab": {
          "base_uri": "https://localhost:8080/"
        },
        "id": "YBTsvYrqMke6",
        "outputId": "99cee8bc-7436-48c4-ad15-8feba4fa3b9a"
      },
      "outputs": [
        {
          "data": {
            "text/plain": [
              "((1780,), (445,), (1780,), (445,))"
            ]
          },
          "execution_count": 29,
          "metadata": {},
          "output_type": "execute_result"
        }
      ],
      "source": [
        "X=df['Processed_Article']\n",
        "y=df['Category_Encoded']\n",
        "\n",
        "from sklearn.model_selection import train_test_split\n",
        "\n",
        "X_train, X_test, y_train, y_test=train_test_split(X,y,test_size=0.2)\n",
        "X_train.shape, X_test.shape, y_train.shape, y_test.shape"
      ]
    },
    {
      "cell_type": "markdown",
      "metadata": {
        "id": "hHs340ciwmpX"
      },
      "source": [
        "#  **Model Training & Evaluation**\n",
        "\n",
        "Simple Approach\n",
        "\n",
        "1. Naive Bayes"
      ]
    },
    {
      "cell_type": "markdown",
      "metadata": {
        "id": "YVturwMk0cNn"
      },
      "source": [
        "## **Confusioin Matrix:**"
      ]
    },
    {
      "cell_type": "code",
      "execution_count": null,
      "metadata": {
        "id": "YroXo2SRMkcY"
      },
      "outputs": [],
      "source": [
        "def conf_matrix(y_test, y_pred):\n",
        "  from sklearn.metrics import confusion_matrix\n",
        "  import seaborn as sns\n",
        "  conf_mat = confusion_matrix(y_test, y_pred)\n",
        "\n",
        "  sns.heatmap(conf_mat, annot=True, xticklabels = df['Category'].unique(), yticklabels=df['Category'].unique(), cmap=\"Purples\", fmt='g')\n"
      ]
    },
    {
      "cell_type": "code",
      "execution_count": null,
      "metadata": {
        "colab": {
          "base_uri": "https://localhost:8080/",
          "height": 686
        },
        "id": "NR68BYKixvEX",
        "outputId": "82b10dcf-40fe-4efe-dff2-f0a4a179775c"
      },
      "outputs": [
        {
          "name": "stdout",
          "output_type": "stream",
          "text": [
            "(1780,) (445,) (1780,) (445,)\n",
            "accuracy: 0.9595505617977528\n",
            "              precision    recall  f1-score   support\n",
            "\n",
            "           0       0.94      0.95      0.95       101\n",
            "           1       1.00      0.89      0.94        81\n",
            "           2       0.92      0.98      0.95        83\n",
            "           3       0.99      1.00      0.99        98\n",
            "           4       0.95      0.98      0.96        82\n",
            "\n",
            "    accuracy                           0.96       445\n",
            "   macro avg       0.96      0.96      0.96       445\n",
            "weighted avg       0.96      0.96      0.96       445\n",
            "\n"
          ]
        },
        {
          "data": {
            "image/png": "[encoded data removed]",
            "text/plain": [
              "<Figure size 640x480 with 2 Axes>"
            ]
          },
          "metadata": {},
          "output_type": "display_data"
        }
      ],
      "source": [
        "# library:\n",
        "from sklearn.naive_bayes import MultinomialNB\n",
        "from sklearn.pipeline import Pipeline\n",
        "from sklearn.feature_extraction.text import TfidfTransformer\n",
        "from sklearn.metrics import accuracy_score\n",
        "from sklearn.metrics import classification_report\n",
        "\n",
        "X=df['Processed_Article']\n",
        "y=df['Category_Encoded']\n",
        "\n",
        "# Split the data into training and testing sets\n",
        "X_train, X_test, y_train, y_test = train_test_split(X,y, test_size=0.2, random_state=42)\n",
        "print(X_train.shape, X_test.shape, y_train.shape, y_test.shape)\n",
        "\n",
        "nb = Pipeline([('vect', CountVectorizer()), #Converts text data into a Bag of Words (BoW) representation\n",
        "               ('tfidf', TfidfTransformer()), # Transforms BoW into TF-IDF format (which normalizes term frequency by inverse document frequency).\n",
        "               ('clf', MultinomialNB()),# Naive Bayes classifier for text data.\n",
        "              ])\n",
        "nb.fit(X_train, y_train)\n",
        "\n",
        "y_pred = nb.predict(X_test) # Predicts the categories for the test set articles.\n",
        "\n",
        "print(f'accuracy: {accuracy_score(y_pred, y_test)}') # evaluates how well the model predicts the correct categories for the test set.\n",
        "\n",
        "print(classification_report(y_test, y_pred)) # Provides precision, recall, and F1-score for each class (category).\n",
        "conf_matrix(y_test, y_pred) # representation of the true vs predicted values\n"
      ]
    },
    {
      "cell_type": "markdown",
      "metadata": {
        "id": "KpnyndF11iaH"
      },
      "source": [
        "2. **SGDClassifier**: used for Large-scale datasets and real-time predictions.\n"
      ]
    },
    {
      "cell_type": "code",
      "execution_count": null,
      "metadata": {
        "colab": {
          "base_uri": "https://localhost:8080/",
          "height": 741
        },
        "id": "qQkyznPBxvBX",
        "outputId": "d0cedfda-013f-4d27-faed-691a8ffb4d56"
      },
      "outputs": [
        {
          "name": "stdout",
          "output_type": "stream",
          "text": [
            "accuracy: 0.9685393258426966\n",
            "Classification Report:\n",
            "\n",
            "              precision    recall  f1-score   support\n",
            "\n",
            "           0       0.96      0.92      0.94       101\n",
            "           1       0.99      0.98      0.98        81\n",
            "           2       0.93      0.98      0.95        83\n",
            "           3       0.98      1.00      0.99        98\n",
            "           4       0.99      0.98      0.98        82\n",
            "\n",
            "    accuracy                           0.97       445\n",
            "   macro avg       0.97      0.97      0.97       445\n",
            "weighted avg       0.97      0.97      0.97       445\n",
            "\n",
            "Confusion Matrix:\n",
            "\n"
          ]
        },
        {
          "data": {
            "image/png": "[encoded data removed]",
            "text/plain": [
              "<Figure size 640x480 with 2 Axes>"
            ]
          },
          "metadata": {},
          "output_type": "display_data"
        }
      ],
      "source": [
        "from sklearn.linear_model import SGDClassifier\n",
        "\n",
        "sgd = Pipeline([('vect', CountVectorizer()),\n",
        "                ('tfidf', TfidfTransformer()),\n",
        "                ('clf', SGDClassifier(loss='hinge', penalty='l2',alpha=1e-3, random_state=42, max_iter=5, tol=None)),\n",
        "               ])\n",
        "sgd.fit(X_train, y_train)\n",
        "\n",
        "y_pred = sgd.predict(X_test)\n",
        "\n",
        "print(f'accuracy: {accuracy_score(y_pred, y_test)}')\n",
        "\n",
        "print('Classification Report:\\n')\n",
        "print(classification_report(y_test, y_pred))\n",
        "\n",
        "print('Confusion Matrix:\\n')\n",
        "conf_matrix(y_test, y_pred)\n"
      ]
    },
    {
      "cell_type": "markdown",
      "metadata": {
        "id": "JslArHL2nYFt"
      },
      "source": [
        "3. Logistic Regression:"
      ]
    },
    {
      "cell_type": "code",
      "execution_count": null,
      "metadata": {
        "colab": {
          "base_uri": "https://localhost:8080/",
          "height": 667
        },
        "id": "HNRCB4BJxu98",
        "outputId": "d2a3b87a-0a7d-49bb-fb18-04fc988adb02"
      },
      "outputs": [
        {
          "name": "stdout",
          "output_type": "stream",
          "text": [
            "accuracy: {0.9662921348314607}\n",
            "              precision    recall  f1-score   support\n",
            "\n",
            "           0       0.96      0.93      0.94       101\n",
            "           1       0.99      0.95      0.97        81\n",
            "           2       0.93      0.98      0.95        83\n",
            "           3       0.98      1.00      0.99        98\n",
            "           4       0.98      0.98      0.98        82\n",
            "\n",
            "    accuracy                           0.97       445\n",
            "   macro avg       0.97      0.97      0.97       445\n",
            "weighted avg       0.97      0.97      0.97       445\n",
            "\n"
          ]
        },
        {
          "data": {
            "image/png": "[encoded data removed]",
            "text/plain": [
              "<Figure size 640x480 with 2 Axes>"
            ]
          },
          "metadata": {},
          "output_type": "display_data"
        }
      ],
      "source": [
        "from sklearn.linear_model import LogisticRegression\n",
        "\n",
        "log_reg = Pipeline([('vect', CountVectorizer()),\n",
        "                ('tfidf', TfidfTransformer()),\n",
        "                ('clf', LogisticRegression(n_jobs = 1, C = 1e5, max_iter=1000)),\n",
        "               ])\n",
        "log_reg.fit(X_train, y_train)\n",
        "\n",
        "y_pred = log_reg.predict(X_test)\n",
        "\n",
        "print(f'accuracy:', {accuracy_score(y_pred, y_test)})\n",
        "print(classification_report(y_test, y_pred))\n",
        "\n",
        "conf_matrix(y_test, y_pred)"
      ]
    },
    {
      "cell_type": "markdown",
      "metadata": {
        "id": "O6DUK-3FoemD"
      },
      "source": [
        "# Advance Techniques:\n",
        "\n",
        "1. Decision Tree\n",
        "\n",
        "2. Nearest Neighbors\n",
        "\n",
        "3. Random Forest"
      ]
    },
    {
      "cell_type": "markdown",
      "metadata": {
        "id": "_50GCd6aovn2"
      },
      "source": [
        "1. **Decision Tree:**\n",
        "\n",
        "Most powerful tools of supervised learning algorithms used for both classification and regression tasks.\n",
        "\n",
        "DecisionTreeClassifier is capable of both binary (where the labels are [-1, 1]) classification and multiclass (where the labels are [0, …, K-1]) classification."
      ]
    },
    {
      "cell_type": "code",
      "execution_count": null,
      "metadata": {
        "colab": {
          "base_uri": "https://localhost:8080/"
        },
        "id": "Es93NrA_pP_h",
        "outputId": "b312cf26-e7ae-4900-9517-121f78d3069b"
      },
      "outputs": [
        {
          "data": {
            "text/plain": [
              "Index(['Category', 'Article', 'Processed_Article', 'Category_Encoded'], dtype='object')"
            ]
          },
          "execution_count": 34,
          "metadata": {},
          "output_type": "execute_result"
        }
      ],
      "source": [
        "df.columns"
      ]
    },
    {
      "cell_type": "code",
      "execution_count": null,
      "metadata": {
        "colab": {
          "base_uri": "https://localhost:8080/",
          "height": 686
        },
        "id": "p4gYeSAloNxL",
        "outputId": "6f3c2b92-191f-401d-8388-eea55a4ae40d"
      },
      "outputs": [
        {
          "name": "stdout",
          "output_type": "stream",
          "text": [
            "accuracy:0.898876404494382\n",
            "               precision    recall  f1-score   support\n",
            "\n",
            "   Technology       0.88      0.96      0.91        90\n",
            "     Business       0.88      0.88      0.88        80\n",
            "       Sports       0.93      0.80      0.86        87\n",
            "Entertainment       0.93      0.95      0.94       110\n",
            "     Politics       0.87      0.88      0.88        78\n",
            "\n",
            "    micro avg       0.90      0.90      0.90       445\n",
            "    macro avg       0.90      0.89      0.89       445\n",
            " weighted avg       0.90      0.90      0.90       445\n",
            "  samples avg       0.90      0.90      0.90       445\n",
            "\n"
          ]
        },
        {
          "data": {
            "image/png": "[encoded data removed]",
            "text/plain": [
              "<Figure size 640x480 with 2 Axes>"
            ]
          },
          "metadata": {},
          "output_type": "display_data"
        }
      ],
      "source": [
        "from sklearn.tree import DecisionTreeClassifier,plot_tree\n",
        "from sklearn.metrics import accuracy_score\n",
        "from sklearn.metrics import classification_report\n",
        "from sklearn.feature_extraction.text import CountVectorizer\n",
        "\n",
        "cv=CountVectorizer()\n",
        "\n",
        "#Convert it to Numerical, as Decision Tree expects Numerical input\n",
        "X = cv.fit_transform(df['Processed_Article']).toarray()\n",
        "y = cv.fit_transform(df['Category']).toarray()\n",
        "# split\n",
        "X_train, X_test, y_train, y_test = train_test_split(X,y,test_size=0.2)\n",
        "X_train.shape, X_test.shape, y_train.shape, y_test.shape\n",
        "\n",
        "# Decision Tree Model:\n",
        "model = DecisionTreeClassifier(criterion='gini')\n",
        "model.fit(X_train,y_train)\n",
        "y_pred = model.predict(X_test)\n",
        "\n",
        "print(f'accuracy:{accuracy_score(y_test,y_pred)}')\n",
        "\n",
        "print(classification_report(y_test,y_pred,target_names=df['Category'].unique()))\n",
        "\n",
        "conf_matrix(y_test.argmax(axis=1), y_pred.argmax(axis=1))# As are taking it in array form"
      ]
    },
    {
      "cell_type": "code",
      "execution_count": null,
      "metadata": {
        "colab": {
          "base_uri": "https://localhost:8080/",
          "height": 625
        },
        "id": "Nm5nSEo6qFJp",
        "outputId": "4e5b9b76-8397-4d17-9115-8feddb4a1850"
      },
      "outputs": [
        {
          "data": {
            "text/plain": [
              "[Text(0.625, 0.875, 'x[22425] <= 0.5\\ngini = 0.319\\nsamples = 1780\\nvalue = [[1360, 420]\\n[1474, 306]\\n[1450, 330]\\n[1379, 401]\\n[1457, 323]]'),\n",
              " Text(0.5, 0.625, 'x[23401] <= 0.5\\ngini = 0.315\\nsamples = 1631\\nvalue = [[1211, 420]\\n[1325, 306]\\n[1450, 181]\\n[1230, 401]\\n[1308, 323]]'),\n",
              " Text(0.5625, 0.75, 'True  '),\n",
              " Text(0.25, 0.375, 'x[2429] <= 0.5\\ngini = 0.31\\nsamples = 1480\\nvalue = [[1066.0, 414.0]\\n[1174.0, 306.0]\\n[1299.0, 181.0]\\n[1079.0, 401.0]\\n[1302.0, 178.0]]'),\n",
              " Text(0.125, 0.125, '\\n  (...)  \\n'),\n",
              " Text(0.375, 0.125, '\\n  (...)  \\n'),\n",
              " Text(0.75, 0.375, 'x[6792] <= 0.5\\ngini = 0.031\\nsamples = 151\\nvalue = [[145, 6]\\n[151, 0]\\n[151, 0]\\n[151, 0]\\n[6, 145]]'),\n",
              " Text(0.625, 0.125, '\\n  (...)  \\n'),\n",
              " Text(0.875, 0.125, '\\n  (...)  \\n'),\n",
              " Text(0.75, 0.625, 'gini = 0.0\\nsamples = 149\\nvalue = [[149, 0]\\n[149, 0]\\n[0, 149]\\n[149, 0]\\n[149, 0]]'),\n",
              " Text(0.6875, 0.75, '  False')]"
            ]
          },
          "execution_count": 36,
          "metadata": {},
          "output_type": "execute_result"
        },
        {
          "data": {
            "image/png": "[encoded data removed]",
            "text/plain": [
              "<Figure size 640x480 with 1 Axes>"
            ]
          },
          "metadata": {},
          "output_type": "display_data"
        }
      ],
      "source": [
        "plot_tree(model,filled=True,max_depth=2)"
      ]
    },
    {
      "cell_type": "markdown",
      "metadata": {
        "id": "S6gScTkSsABL"
      },
      "source": [
        "2. KNearest neighbour:"
      ]
    },
    {
      "cell_type": "code",
      "execution_count": null,
      "metadata": {
        "colab": {
          "base_uri": "https://localhost:8080/",
          "height": 742
        },
        "id": "pPeG3fWYsFRU",
        "outputId": "7590fd72-a46e-4afe-951c-db4b21d0f5f1"
      },
      "outputs": [
        {
          "name": "stdout",
          "output_type": "stream",
          "text": [
            "accuracy:0.597752808988764\n",
            "               precision    recall  f1-score   support\n",
            "\n",
            "   Technology       0.96      0.49      0.65       109\n",
            "     Business       0.94      0.40      0.56        78\n",
            "       Sports       0.94      0.59      0.72        80\n",
            "Entertainment       0.40      1.00      0.57       104\n",
            "     Politics       1.00      0.42      0.59        74\n",
            "\n",
            "    micro avg       0.62      0.60      0.61       445\n",
            "    macro avg       0.85      0.58      0.62       445\n",
            " weighted avg       0.83      0.60      0.62       445\n",
            "  samples avg       0.60      0.60      0.60       445\n",
            "\n"
          ]
        },
        {
          "name": "stderr",
          "output_type": "stream",
          "text": [
            "/usr/local/lib/python3.10/dist-packages/sklearn/metrics/_classification.py:1531: UndefinedMetricWarning: Precision is ill-defined and being set to 0.0 in samples with no predicted labels. Use `zero_division` parameter to control this behavior.\n",
            "  _warn_prf(average, modifier, f\"{metric.capitalize()} is\", len(result))\n"
          ]
        },
        {
          "data": {
            "image/png": "[encoded data removed]",
            "text/plain": [
              "<Figure size 640x480 with 2 Axes>"
            ]
          },
          "metadata": {},
          "output_type": "display_data"
        }
      ],
      "source": [
        "from sklearn.neighbors import KNeighborsClassifier\n",
        "knn=KNeighborsClassifier(n_neighbors=5 , metric='euclidean')\n",
        "\n",
        "X = cv.fit_transform(df['Processed_Article']).toarray()\n",
        "y = cv.fit_transform(df['Category']).toarray()\n",
        "\n",
        "X_train, X_test, y_train, y_test=train_test_split(X,y,test_size=0.2)\n",
        "X_train.shape, X_test.shape, y_train.shape, y_test.shape\n",
        "\n",
        "knn.fit(X_train,y_train)\n",
        "y_pred = knn.predict(X_test)\n",
        "\n",
        "print(f'accuracy:{accuracy_score(y_test,y_pred)}')\n",
        "\n",
        "print(classification_report(y_test,y_pred,target_names=df['Category'].unique()))\n",
        "\n",
        "conf_matrix(y_test.argmax(axis=1), y_pred.argmax(axis=1))"
      ]
    },
    {
      "cell_type": "markdown",
      "metadata": {
        "id": "11PNsgokrQz0"
      },
      "source": [
        "3. Random Forest:"
      ]
    },
    {
      "cell_type": "code",
      "execution_count": null,
      "metadata": {
        "colab": {
          "base_uri": "https://localhost:8080/",
          "height": 742
        },
        "id": "vePJtYOxrNeB",
        "outputId": "d3a90ed8-4f55-44d5-dfd9-ac1aa15fea5d"
      },
      "outputs": [
        {
          "name": "stdout",
          "output_type": "stream",
          "text": [
            "accuracy:0.8337078651685393\n",
            "               precision    recall  f1-score   support\n",
            "\n",
            "   Technology       0.99      0.86      0.92       100\n",
            "     Business       1.00      0.85      0.92        79\n",
            "       Sports       1.00      0.69      0.82        74\n",
            "Entertainment       1.00      1.00      1.00       108\n",
            "     Politics       1.00      0.70      0.83        84\n",
            "\n",
            "    micro avg       1.00      0.83      0.91       445\n",
            "    macro avg       1.00      0.82      0.90       445\n",
            " weighted avg       1.00      0.83      0.90       445\n",
            "  samples avg       0.83      0.83      0.83       445\n",
            "\n"
          ]
        },
        {
          "name": "stderr",
          "output_type": "stream",
          "text": [
            "/usr/local/lib/python3.10/dist-packages/sklearn/metrics/_classification.py:1531: UndefinedMetricWarning: Precision is ill-defined and being set to 0.0 in samples with no predicted labels. Use `zero_division` parameter to control this behavior.\n",
            "  _warn_prf(average, modifier, f\"{metric.capitalize()} is\", len(result))\n"
          ]
        },
        {
          "data": {
            "image/png": "[encoded data removed]",
            "text/plain": [
              "<Figure size 640x480 with 2 Axes>"
            ]
          },
          "metadata": {},
          "output_type": "display_data"
        }
      ],
      "source": [
        "from sklearn.ensemble import RandomForestClassifier\n",
        "from sklearn.metrics import accuracy_score\n",
        "from sklearn.metrics import classification_report\n",
        "from sklearn.feature_extraction.text import CountVectorizer\n",
        "\n",
        "cv=CountVectorizer()\n",
        "\n",
        "#Convert it to Numerical, as Decision Tree expects Numerical input\n",
        "X = cv.fit_transform(df['Processed_Article']).toarray()\n",
        "y = cv.fit_transform(df['Category']).toarray()\n",
        "\n",
        "X_train, X_test, y_train, y_test=train_test_split(X,y,test_size=0.2)\n",
        "X_train.shape, X_test.shape, y_train.shape, y_test.shape\n",
        "\n",
        "RFC = RandomForestClassifier(random_state=7,criterion='gini')\n",
        "RFC.fit(X_train,y_train)\n",
        "y_pred = RFC.predict(X_test)\n",
        "\n",
        "\n",
        "print(f'accuracy:{accuracy_score(y_test,y_pred)}')\n",
        "\n",
        "print(classification_report(y_test,y_pred,target_names = df['Category'].unique()))\n",
        "\n",
        "conf_matrix(y_test.argmax(axis=1), y_pred.argmax(axis=1))"
      ]
    },
    {
      "cell_type": "code",
      "execution_count": null,
      "metadata": {
        "id": "x83Upk7ArNbT"
      },
      "outputs": [],
      "source": []
    },
    {
      "cell_type": "markdown",
      "metadata": {
        "id": "QyysDwz_suhG"
      },
      "source": [
        "# **Questionnaires**\n",
        "\n",
        "1. How many news articles are present in the dataset that we have?\n",
        "* There were total 5 news articles are present in the dataset which are **['Technology', 'Business', 'Sports', 'Entertainment', 'Politics']**\n",
        "---\n",
        "2. Most of the news articles are from _____ category.\n",
        "* Most of the news articles are from **Sports category**.\n",
        "---\n",
        "\n",
        "3. Only ___ no. of articles belong to the ‘Technology’ category.\n",
        "* Only **401** number of articles belongs to Technolog category.\n",
        "---\n",
        "\n",
        "4. What are Stop Words and why should they be removed from the text data?\n",
        "* **Stop words** are the common words in a language that are often removed from text data during preprocessing in natural language processing (NLP) tasks.\n",
        "* These words typically include articles, prepositions, conjunctions, and pronouns (e.g., \"the,\" \"is,\" \"in,\" \"and,\" \"to,\" \"with\").\n",
        "* They usually carry little meaningful information on their own and are common across most texts.\n",
        "* **Why they should be removed from the text data?**\n",
        "1. Irrelevance to the Meaning:It doesn't contribute significantly to the content or meaning of a sentence\n",
        "2. Improving Model Efficiency: Removing stop words reduces the size of the text data (dimensionality). thus less computation and Reduced memory usage.\n",
        "3. Noise Reduction: they are often considered \"noise\" in text data because they are common and occur in almost all documents.\n",
        "4. Improved Performance in Some Tasks: In tasks such as document classification, sentiment analysis, and keyword extraction, removing stop words can improve performance by ensuring that the model focuses on the more relevant words, which improves signal-to-noise ratio.\n",
        "---\n",
        "\n",
        "\n",
        "5. Explain the difference between Stemming and lematization.\n",
        "* **Stemming and Lemmatization** are two text preprocessing techniques used in natural language processing (NLP) to reduce words to their base or root form.\n",
        "* Stemming does not generate actual words where as lemmatization does generate actual words.\n",
        "* Stemming is a rule based technique and is applied step by step on words without any additional context, it is much faster as compared to lemmatization which needs the entire text or POS tag to generate the root lemma correctly.\n",
        "* If you need speed then stemming can be preffered else lemmatization is better in most cases.\n",
        "\n",
        "* **Stemming is a faster but less accurate method that chops off word parts based on simple rules, sometimes producing non-dictionary terms.**\n",
        "* **Lemmatization is more sophisticated and accurate, reducing words to their dictionary base form, considering context, but at the cost of computational complexity.**\n",
        "\n",
        "---\n",
        "\n",
        "\n",
        "6. Which of the techniques Bag of Words or TF-IDF is considered to be more efficient than the other?\n",
        "* **TF-IDF** is generally considered more efficient than Bag of Words for tasks that require understanding the significance of words across the corpus, as it captures more meaningful insights about the text. However, Bag of Words is simpler and computationally lighter, making it more efficient for quick, basic tasks.\n",
        "-------------\n",
        "- Definition:\n",
        "* **Bag of Words (BoW):**\n",
        "Treats all words equally, assigning the same importance to every word regardless of how often it appears in different documents.\n",
        "Less efficient at capturing the relevance or uniqueness of words.\n",
        "* **TF-IDF:**\n",
        "Weighs words based on their frequency in the document and across the corpus, giving more importance to rare but informative words.\n",
        "More efficient at highlighting meaningful words.\n",
        "\n",
        "---\n",
        "\n",
        "\n",
        "7. What’s the shape of train & test data sets after performing a 75:25 split?\n",
        "* X_train shape: (353,), X_test shape: (118,)\n",
        "* y_train shape: (353,), y_test shape: (118,)\n",
        "\n",
        "-----------\n",
        "\n",
        "\n",
        "8. Which of the following is found to be the best-performing model..\n",
        "a. Random Forest b. Nearest Neighbors c. Naive Bayes\n",
        "* **Naive Bayes with 95% accuracy.**\n",
        "---\n",
        "9. According to this particular use case, both precision and recall are equally important.\n",
        "(T/F)\n",
        "* For this specific use case of categorizing news articles into different categories like politics, technology, sports, business, and entertainment, **both precision and recall are generally equally important.** Because:\n",
        "\n",
        "* Precision is important because you want to minimize the number of incorrectly labeled articles (e.g., misclassifying a politics article as technology).\n",
        "\n",
        "* Recall is equally important because you want to ensure that all relevant articles are captured in the correct category (e.g., ensuring that all politics-related articles are identified).\n",
        "\n",
        "In the text classification problems like this, a balance between precision and recall ensures that the model can correctly identify as many relevant articles as possible without introducing too many misclassifications."
      ]
    },
    {
      "cell_type": "code",
      "execution_count": null,
      "metadata": {
        "id": "CV4AA7R1rNYV"
      },
      "outputs": [],
      "source": [
        "# X = df['Processed_Article']\n",
        "# y = df['Category_Encoded']\n",
        "# X_train, X_test, y_train, y_test = train_test_split(X, y, test_size=0.25, random_state=42)\n",
        "\n",
        "# # Check the shape of the train and test sets\n",
        "# print(\"X_train shape:\", X_train.shape)\n",
        "# print(\"X_test shape:\", X_test.shape)\n",
        "# print(\"y_train shape:\", y_train.shape)\n",
        "# print(\"y_test shape:\", y_test.shape)"
      ]
    }
  ],
  "metadata": {
    "colab": {
      "provenance": [],
      "include_colab_link": true
    },
    "kernelspec": {
      "display_name": "Python 3 (ipykernel)",
      "language": "python",
      "name": "python3"
    },
    "language_info": {
      "codemirror_mode": {
        "name": "ipython",
        "version": 3
      },
      "file_extension": ".py",
      "mimetype": "text/x-python",
      "name": "python",
      "nbconvert_exporter": "python",
      "pygments_lexer": "ipython3",
      "version": "3.11.1"
    }
  },
  "nbformat": 4,
  "nbformat_minor": 0
}